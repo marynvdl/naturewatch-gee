{
  "cells": [
    {
      "cell_type": "markdown",
      "source": [
        "# Summary\n",
        "1. Here, we create unnatural bareground layers. We will consider annual rainfal and classify pixels that are not green enough as bare ground.\n",
        "2. We consider annual rainfall data by combining CHIRPS Daily data.\n",
        "3. We select for each pixel the wettest month for the year\n",
        "4. Using Sentinel-2 we select the four greenest months of imagery and calculate the NDVI\n",
        "5. Using a log threshold, we then classify low NDVI values as bareground\n",
        "\n",
        "### Future\n",
        "- Exporting to Google Cloud"
      ],
      "metadata": {
        "id": "PNr6n2d-Xt2a"
      }
    },
    {
      "cell_type": "markdown",
      "metadata": {
        "id": "z32MNb4_xsB7"
      },
      "source": [
        "# Setting up the environment"
      ]
    },
    {
      "cell_type": "code",
      "execution_count": null,
      "metadata": {
        "id": "xX91gkFHtj-5"
      },
      "outputs": [],
      "source": [
        "# Import and/or install libraries\n",
        "import subprocess, os, gcsfs, json\n",
        "\n",
        "try:\n",
        "    import geemap, ee\n",
        "except ImportError:\n",
        "    subprocess.check_call([\"python\", '-m', 'pip', 'install', '-U', 'geemap'])\n",
        "    import geemap, ee\n"
      ]
    },
    {
      "cell_type": "code",
      "execution_count": null,
      "metadata": {
        "id": "gd4amEOkxAJ1"
      },
      "outputs": [],
      "source": [
        "# Connect to Google Drive to access files\n",
        "\n",
        "from google.colab import drive\n",
        "drive.mount('/content/drive')"
      ]
    },
    {
      "cell_type": "code",
      "execution_count": null,
      "metadata": {
        "id": "QEtv-EFnvqgQ"
      },
      "outputs": [],
      "source": [
        "# Connect to Google Earth Engine if neccessary\n",
        "\n",
        "service_account = os.environ.get('GOOGLE_SERVICE_ACCOUNT')\n",
        "credentials = ee.ServiceAccountCredentials(service_account, os.environ.get('GOOGLE_APPLICATION_CREDENTIALS'))\n",
        "ee.Initialize(credentials)"
      ]
    },
    {
      "cell_type": "markdown",
      "source": [
        "# Sentinel"
      ],
      "metadata": {
        "id": "DdamNZDKx0nu"
      }
    },
    {
      "cell_type": "code",
      "source": [
        "CLOUD_FILTER = 60\n",
        "CLD_PRB_THRESH = 50\n",
        "NIR_DRK_THRESH = 0.15\n",
        "CLD_PRJ_DIST = 1\n",
        "BUFFER = 50\n",
        "\n",
        "\n",
        "def get_s2_sr_cld_col(datefilter):\n",
        "    s2_sr_col = (ee.ImageCollection('COPERNICUS/S2_SR')\n",
        "        .filter(datefilter)\n",
        "        .filter(ee.Filter.lte('CLOUDY_PIXEL_PERCENTAGE', CLOUD_FILTER)))\n",
        "\n",
        "    s2_cloudless_col = (ee.ImageCollection('COPERNICUS/S2_CLOUD_PROBABILITY')\n",
        "        .filter(datefilter)\n",
        "        )\n",
        "\n",
        "    return ee.ImageCollection(ee.Join.saveFirst('s2cloudless').apply(**{\n",
        "        'primary': s2_sr_col,\n",
        "        'secondary': s2_cloudless_col,\n",
        "        'condition': ee.Filter.equals(**{\n",
        "            'leftField': 'system:index',\n",
        "            'rightField': 'system:index'\n",
        "        })\n",
        "    }))\n",
        "\n",
        "\n",
        "def add_cloud_bands(img):\n",
        "    cld_prb = ee.Image(img.get('s2cloudless')).select('probability')\n",
        "    is_cloud = cld_prb.gt(CLD_PRB_THRESH).rename('clouds')\n",
        "    return img.addBands(ee.Image([cld_prb, is_cloud]))\n",
        "\n",
        "\n",
        "def add_shadow_bands(img):\n",
        "    # Identify water pixels from the SCL band.\n",
        "    not_water = img.select('SCL').neq(6)\n",
        "\n",
        "    # Identify dark NIR pixels that are not water (potential cloud shadow pixels).\n",
        "    SR_BAND_SCALE = 1e4\n",
        "    dark_pixels = img.select('B8').lt(NIR_DRK_THRESH*SR_BAND_SCALE).multiply(not_water).rename('dark_pixels')\n",
        "\n",
        "    # Determine the direction to project cloud shadow from clouds (assumes UTM projection).\n",
        "    shadow_azimuth = ee.Number(90).subtract(ee.Number(img.get('MEAN_SOLAR_AZIMUTH_ANGLE')));\n",
        "\n",
        "    # Project shadows from clouds for the distance specified by the CLD_PRJ_DIST input.\n",
        "    cld_proj = (img.select('clouds').directionalDistanceTransform(shadow_azimuth, CLD_PRJ_DIST*10)\n",
        "        .reproject(**{'crs': img.select(0).projection(), 'scale': 100})\n",
        "        .select('distance')\n",
        "        .mask()\n",
        "        .rename('cloud_transform'))\n",
        "\n",
        "    # Identify the intersection of dark pixels with cloud shadow projection.\n",
        "    shadows = cld_proj.multiply(dark_pixels).rename('shadows')\n",
        "\n",
        "    # Add dark pixels, cloud projection, and identified shadows as image bands.\n",
        "    return img.addBands(ee.Image([dark_pixels, cld_proj, shadows]))\n",
        "\n",
        "def add_cld_shdw_mask(img):\n",
        "    # Add cloud component bands.\n",
        "    img_cloud = add_cloud_bands(img)\n",
        "\n",
        "    # Add cloud shadow component bands.\n",
        "    img_cloud_shadow = add_shadow_bands(img_cloud)\n",
        "\n",
        "    # Combine cloud and shadow mask, set cloud and shadow as value 1, else 0.\n",
        "    is_cld_shdw = img_cloud_shadow.select('clouds').add(img_cloud_shadow.select('shadows')).gt(0)\n",
        "\n",
        "    # Remove small cloud-shadow patches and dilate remaining pixels by BUFFER input.\n",
        "    # 20 m scale is for speed, and assumes clouds don't require 10 m precision.\n",
        "    is_cld_shdw = (is_cld_shdw.focalMin(2).focalMax(BUFFER*2/20)\n",
        "        .reproject(**{'crs': img.select([0]).projection(), 'scale': 20})\n",
        "        .rename('cloudmask'))\n",
        "\n",
        "    # Add the final cloud-shadow mask to the image.\n",
        "    return img_cloud_shadow.addBands(is_cld_shdw)\n",
        "\n",
        "\n",
        "def apply_cld_shdw_mask(img):\n",
        "    # Subset the cloudmask band and invert it so clouds/shadow are 0, else 1.\n",
        "    not_cld_shdw = img.select('cloudmask').Not()\n",
        "\n",
        "    # Subset reflectance bands and update their masks, return the result.\n",
        "    return img.select('B.*').updateMask(not_cld_shdw)\n",
        "\n",
        "\n",
        "date_filter = ee.Filter.date(ee.Date('2022-01-01'), ee.Date('2023-01-01'))\n",
        "\n",
        "sentinel = get_s2_sr_cld_col(date_filter).map(add_cld_shdw_mask).map(apply_cld_shdw_mask)\n",
        "\n",
        "\n",
        "\n"
      ],
      "metadata": {
        "id": "TD_dR25qx2z0"
      },
      "execution_count": null,
      "outputs": []
    },
    {
      "cell_type": "markdown",
      "source": [
        "# Rain"
      ],
      "metadata": {
        "id": "k3Ps1IDmx3eu"
      }
    },
    {
      "cell_type": "code",
      "source": [
        "start_year = 2022\n",
        "end_year = start_year + 1\n",
        "\n",
        "# Define the initial ImageCollection\n",
        "rain = ee.ImageCollection('UCSB-CHG/CHIRPS/DAILY').filter(ee.Filter.date(f'{start_year}-01-01', f'{end_year}-01-01')).select('precipitation')\n",
        "\n",
        "# Annual rainfall\n",
        "annual_rainfall = rain.sum()\n",
        "\n",
        "# Create an ee.List of months\n",
        "months = ee.List.sequence(1, 12)\n",
        "\n",
        "# Function to calculate the sum of precipitation for each month, add the month as a band, and return the resulting image\n",
        "def calculate_monthly_sum(month):\n",
        "    month = ee.Number(month)\n",
        "    start_date = ee.Date.fromYMD(start_year, month, 1)\n",
        "    end_date = start_date.advance(1, 'month')\n",
        "    rain_month = rain.filterDate(start_date, end_date)\n",
        "    sum_month = rain_month.reduce(ee.Reducer.sum()).rename('precipitation')\n",
        "    sum_month = sum_month.addBands(ee.Image.constant(month).toInt().rename('month'))\n",
        "    return sum_month.set('year', start_year).set('month', month)\n",
        "\n",
        "monthly_rain = months.map(calculate_monthly_sum)\n",
        "monthly_rain = ee.ImageCollection(monthly_rain)\n",
        "\n",
        "# Create a quality mosaic\n",
        "wettest_month = monthly_rain.qualityMosaic('precipitation')\n",
        "\n",
        "# Select the month band\n",
        "wettest_month = wettest_month.select('month')\n",
        "\n",
        "# Create a month mask\n",
        "def mask_wettest_month(month):\n",
        "    month = ee.Number(month)\n",
        "    month_mask = wettest_month.eq(month).selfMask().set('month', month)\n",
        "    return month_mask\n",
        "\n",
        "month_list = ee.List.sequence(1, 12)\n",
        "month_images = ee.ImageCollection(month_list.map(mask_wettest_month))\n"
      ],
      "metadata": {
        "id": "KQf-VUsEwWJj"
      },
      "execution_count": null,
      "outputs": []
    },
    {
      "cell_type": "markdown",
      "source": [
        "# Sentinel: greenest months\n"
      ],
      "metadata": {
        "id": "NWmzIVmE-ay6"
      }
    },
    {
      "cell_type": "code",
      "source": [
        "import math\n",
        "\n",
        "CLOUD_FILTER = 40\n",
        "CLD_PRB_THRESH = 50\n",
        "NIR_DRK_THRESH = 0.15\n",
        "CLD_PRJ_DIST = 1\n",
        "BUFFER = 50\n",
        "\n",
        "start_date = ee.Date.fromYMD(start_year, 1, 1)\n",
        "end_date = start_date.advance(1, 'month')\n",
        "\n",
        "def calc_ndvi(image):\n",
        "  ndvi = image.normalizedDifference(['B8', 'B4'])\n",
        "  return ndvi\n",
        "\n",
        "\n",
        "def get_ndvi_for_month(image):\n",
        "  start_date = ee.Date.fromYMD(start_year, image.get('month'), 1)\n",
        "  start_date_ndvi = start_date.advance(-15, 'day')\n",
        "  date_filter = ee.Filter.date(ee.Date(start_date_ndvi), ee.Date(start_date_ndvi).advance(4, 'month'))\n",
        "\n",
        "  sentinel = get_s2_sr_cld_col(date_filter).map(add_cld_shdw_mask).map(apply_cld_shdw_mask)\n",
        "  ndvi = sentinel.map(calc_ndvi).max().updateMask(image)\n",
        "\n",
        "  return ndvi\n",
        "\n",
        "ndvi_for_wettest_month = month_images.map(get_ndvi_for_month).max()\n"
      ],
      "metadata": {
        "id": "OKNRLBx6yFZS"
      },
      "execution_count": null,
      "outputs": []
    },
    {
      "cell_type": "code",
      "source": [
        "print(annual_rainfall.bandNames().getInfo())"
      ],
      "metadata": {
        "id": "kYHYzI9gqniS"
      },
      "execution_count": null,
      "outputs": []
    },
    {
      "cell_type": "markdown",
      "source": [
        "# Calculate bareground"
      ],
      "metadata": {
        "id": "1o1i5xmQp57h"
      }
    },
    {
      "cell_type": "code",
      "source": [
        "threshold = annual_rainfall.expression(\n",
        "    'log10(PREC-100)**0.53-1.43', {\n",
        "      'PREC': annual_rainfall.select('precipitation')\n",
        "})\n",
        "bareground = ndvi_for_wettest_month.updateMask(ndvi_for_wettest_month.lt(threshold))\n"
      ],
      "metadata": {
        "id": "LWuv1_Qzp8pV"
      },
      "execution_count": null,
      "outputs": []
    },
    {
      "cell_type": "markdown",
      "source": [
        "# Map"
      ],
      "metadata": {
        "id": "Dkh-A5QCx5cP"
      }
    },
    {
      "cell_type": "code",
      "source": [
        "ndvi_style = {\n",
        "  'min': 0.0,\n",
        "  'max': 1.0,\n",
        "  'palette': ['8C510A', 'D8B365', 'F6E8C3', 'a7d07b', '5bc02f', '2fbb00']\n",
        "\n",
        "}\n",
        "\n",
        "rain_highest_style = {\n",
        "    'min': 1,\n",
        "    'max': 12,\n",
        "    'palette': ['#FF0000', '#FF7F00', '#FFFF00', '#7FFF00', '#00FF00', '#00FF7F', '#00FFFF', '#007FFF', '#0000FF', '#7F00FF', '#FF00FF', '#FF007F']\n",
        "\n",
        "}\n",
        "\n",
        "sentinel_vis = {\n",
        "  'min': 0.0,\n",
        "  'max': 3000,\n",
        "  'bands': ['B4', 'B3', 'B2']\n",
        "}\n",
        "\n",
        "Map = geemap.Map()\n",
        "Map.add_basemap('SATELLITE')\n",
        "# Map.addLayer(wettest_month, rain_highest_style, 'highest_rainfall_month')\n",
        "# Map.addLayer(ndvi_for_wettest_month, ndvi_style, 'ndvi_for_wettest_month')\n",
        "Map.addLayer(bareground, {}, 'bareground')\n",
        "\n",
        "\n",
        "# Map.addLayer(sentinel, sentinel_vis, 'sentinel')\n",
        "Map.setCenter(31.944, -25.087, 12)\n",
        "Map"
      ],
      "metadata": {
        "id": "ULZ-JLZ50GnC"
      },
      "execution_count": null,
      "outputs": []
    }
  ],
  "metadata": {
    "colab": {
      "provenance": [],
      "collapsed_sections": [
        "DdamNZDKx0nu"
      ],
      "authorship_tag": "ABX9TyP2gO9JY+qMznE0L3tYatkV"
    },
    "kernelspec": {
      "display_name": "Python 3",
      "name": "python3"
    },
    "language_info": {
      "name": "python"
    }
  },
  "nbformat": 4,
  "nbformat_minor": 0
}