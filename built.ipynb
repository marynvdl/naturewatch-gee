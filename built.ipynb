{
  "cells": [
    {
      "cell_type": "markdown",
      "metadata": {
        "id": "z32MNb4_xsB7"
      },
      "source": [
        "# Setting up the environment"
      ]
    },
    {
      "cell_type": "code",
      "execution_count": null,
      "metadata": {
        "id": "xX91gkFHtj-5"
      },
      "outputs": [],
      "source": [
        "# Import and/or install libraries\n",
        "\n",
        "import subprocess, os\n",
        "\n",
        "try:\n",
        "    import geemap, ee\n",
        "except ImportError:\n",
        "    subprocess.check_call([\"python\", '-m', 'pip', 'install', '-U', 'geemap'])\n",
        "    import geemap, ee\n",
        "\n",
        "try:\n",
        "    import rio_tiler.io\n",
        "except ImportError:\n",
        "    subprocess.check_call([\"python\", '-m', 'pip', 'install', '-U', 'rio-tiler'])\n",
        "    import rio_tiler.io"
      ]
    },
    {
      "cell_type": "code",
      "execution_count": null,
      "metadata": {
        "id": "gd4amEOkxAJ1"
      },
      "outputs": [],
      "source": [
        "# Connect to Google Drive to access files\n",
        "\n",
        "from google.colab import drive\n",
        "drive.mount('/content/drive')"
      ]
    },
    {
      "cell_type": "code",
      "execution_count": null,
      "metadata": {
        "id": "QEtv-EFnvqgQ"
      },
      "outputs": [],
      "source": [
        "# Connect to Google Earth Engine if neccessary\n",
        "\n",
        "service_account = os.environ.get('GOOGLE_SERVICE_ACCOUNT')\n",
        "credentials = ee.ServiceAccountCredentials(service_account, os.environ.get('GOOGLE_PATH_TO_KEY'))\n",
        "ee.Initialize(credentials)"
      ]
    },
    {
      "cell_type": "markdown",
      "source": [
        "# Getting started\n",
        "\n",
        "We will start by using Google Dynamic World and using the built layer. It seems like we should also filter the certainty to be greater than 0.06 (highest false positive in the grassland had a certainty of 0.0569)."
      ],
      "metadata": {
        "id": "rUABCOGM3l0r"
      }
    },
    {
      "cell_type": "code",
      "source": [
        "people_6 = ee.ImageCollection('GOOGLE/DYNAMICWORLD/V1').filterDate('2021-01-01', '2022-01-01').median().select('built').gt(0.6).selfMask()\n",
        "people_3 = ee.ImageCollection('GOOGLE/DYNAMICWORLD/V1').filterDate('2021-01-01', '2022-01-01').median().select('built').gt(0.6).selfMask()\n",
        "\n",
        "people = ee.ImageCollection('GOOGLE/DYNAMICWORLD/V1').filterDate('2021-01-01', '2022-01-01').median().select('label').eq(6).selfMask()\n",
        "certainty_mask = ee.ImageCollection('GOOGLE/DYNAMICWORLD/V1').filterDate('2021-01-01', '2022-01-01').median().select('built').gt(0.06).selfMask()\n",
        "\n",
        "best_people = people.mask(certainty_mask).eq(1).selfMask()\n",
        "\n",
        "people_c = ee.ImageCollection('GOOGLE/DYNAMICWORLD/V1').filterDate('2021-01-01', '2022-01-01').median().select('built').mask(people)"
      ],
      "metadata": {
        "id": "JsSrCRJq4UtI"
      },
      "execution_count": null,
      "outputs": []
    },
    {
      "cell_type": "markdown",
      "source": [
        "# Google Open Buildings"
      ],
      "metadata": {
        "id": "Mrd_Qe9Lat7_"
      }
    },
    {
      "cell_type": "code",
      "source": [
        "buildings = ee.FeatureCollection('GOOGLE/Research/open-buildings/v2/polygons')\n",
        "\n",
        "t_060_065 = buildings.filter('confidence >= 0.60 && confidence < 0.65');\n",
        "t_065_070 = buildings.filter('confidence >= 0.65 && confidence < 0.70');\n",
        "t_gte_070 = buildings.filter('confidence >= 0.70');\n"
      ],
      "metadata": {
        "id": "xOKpzxllawWe"
      },
      "execution_count": null,
      "outputs": []
    },
    {
      "cell_type": "markdown",
      "source": [
        "# Map"
      ],
      "metadata": {
        "id": "ABpfNq5p4xJr"
      }
    },
    {
      "cell_type": "code",
      "source": [
        "Map = geemap.Map()\n",
        "Map.add_basemap('SATELLITE')\n",
        "# Map.addLayer(people_6, {'min':0, 'max':1, 'palette':['white','black']}, 'people_6')\n",
        "# Map.addLayer(people_3, {'min':0, 'max':1, 'palette':['white','red']}, 'people_3')\n",
        "# Map.addLayer(people, {'min':0, 'max':1, 'palette':['white','blue']}, 'people')\n",
        "Map.addLayer(best_people, {'min':0, 'max':1, 'palette':['white','red']}, 'best_people')\n",
        "Map.addLayer(t_060_065, {'color': 'FF0000'}, 'Buildings confidence [0.60; 0.65)');\n",
        "Map.addLayer(t_065_070, {'color': 'FFFF00'}, 'Buildings confidence [0.65; 0.70)');\n",
        "Map.addLayer(t_gte_070, {'color': '00FF00'}, 'Buildings confidence >= 0.70');\n",
        "\n",
        "# Map.addLayer(gdw, {'min':0, 'max':8, 'palette':['419bdf', '397d49', '88b053', '7a87c6', 'e49635', 'dfc35a', 'c4281b', 'a59b8f', 'b39fe1']}, 'GDW')\n",
        "# Map.addLayer(people_c, {'min':0, 'max':0.1, 'palette':['white','blue']}, 'people_c')\n",
        "\n",
        "Map.setCenter(31.944, -25.087, 16)\n",
        "Map\n"
      ],
      "metadata": {
        "id": "2tE6l2tE4zQ7"
      },
      "execution_count": null,
      "outputs": []
    }
  ],
  "metadata": {
    "colab": {
      "provenance": [],
      "collapsed_sections": [
        "YDzJYWPLy3yl"
      ],
      "authorship_tag": "ABX9TyNzhkOCEsMraYe+rWTs23k1"
    },
    "kernelspec": {
      "display_name": "Python 3",
      "name": "python3"
    },
    "language_info": {
      "name": "python"
    }
  },
  "nbformat": 4,
  "nbformat_minor": 0
}