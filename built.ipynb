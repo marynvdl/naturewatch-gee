{
  "cells": [
    {
      "cell_type": "markdown",
      "source": [
        "# Summary\n",
        "We create images from the Google Open Buildings (2022) and export them to Google Cloud Storage. From there we can create tiles locally.\n",
        "\n",
        "### Future\n",
        "- Do the same for the Google Open Buildings (2021)\n",
        "- Incorporate Google Dynamic World once the rock filter works better"
      ],
      "metadata": {
        "id": "PNr6n2d-Xt2a"
      }
    },
    {
      "cell_type": "markdown",
      "metadata": {
        "id": "z32MNb4_xsB7"
      },
      "source": [
        "# Setting up the environment"
      ]
    },
    {
      "cell_type": "code",
      "execution_count": null,
      "metadata": {
        "id": "xX91gkFHtj-5"
      },
      "outputs": [],
      "source": [
        "# Import and/or install libraries\n",
        "\n",
        "import subprocess, os\n",
        "\n",
        "try:\n",
        "    import geemap, ee\n",
        "except ImportError:\n",
        "    subprocess.check_call([\"python\", '-m', 'pip', 'install', '-U', 'geemap'])\n",
        "    import geemap, ee\n",
        "\n",
        "try:\n",
        "    import rio_tiler.io\n",
        "except ImportError:\n",
        "    subprocess.check_call([\"python\", '-m', 'pip', 'install', '-U', 'rio-tiler'])\n",
        "    import rio_tiler.io\n",
        "\n",
        "try:\n",
        "    import mercantile\n",
        "except ImportError:\n",
        "    subprocess.check_call([\"python\", '-m', 'pip', 'install', '-U', 'mercantile'])\n",
        "    import mercantile\n",
        "\n",
        "try:\n",
        "    import gdal2tiles\n",
        "except ImportError:\n",
        "    subprocess.check_call([\"python\", '-m', 'pip', 'install', '-U', 'gdal2tiles'])\n",
        "    import gdal2tiles"
      ]
    },
    {
      "cell_type": "code",
      "execution_count": null,
      "metadata": {
        "id": "gd4amEOkxAJ1"
      },
      "outputs": [],
      "source": [
        "# Connect to Google Drive to access files\n",
        "\n",
        "from google.colab import drive\n",
        "drive.mount('/content/drive')"
      ]
    },
    {
      "cell_type": "code",
      "execution_count": null,
      "metadata": {
        "id": "QEtv-EFnvqgQ"
      },
      "outputs": [],
      "source": [
        "# Connect to Google Earth Engine if neccessary\n",
        "\n",
        "service_account = os.environ.get('GOOGLE_SERVICE_ACCOUNT')\n",
        "credentials = ee.ServiceAccountCredentials(service_account, os.environ.get('GOOGLE_APPLICATION_CREDENTIALS'))\n",
        "ee.Initialize(credentials)"
      ]
    },
    {
      "cell_type": "code",
      "source": [
        "# Connect to Google Cloud\n",
        "\n",
        "from google.cloud import storage\n",
        "client = storage.Client()"
      ],
      "metadata": {
        "id": "BUzWkq9vbMin"
      },
      "execution_count": null,
      "outputs": []
    },
    {
      "cell_type": "markdown",
      "source": [
        "# Getting started\n",
        "\n",
        "We divided Africa into blocks and will run each block manually as a start."
      ],
      "metadata": {
        "id": "rUABCOGM3l0r"
      }
    },
    {
      "cell_type": "code",
      "source": [
        "import json\n",
        "\n",
        "# 16, 15, 14, 13, 12, 11, 10, 9, 8, 7\n",
        "\n",
        "id = 7\n",
        "\n",
        "blocks = []\n",
        "with open(\"/content/drive/MyDrive/data/blocks.geojson\") as f:\n",
        "    json_data = json.load(f)\n",
        "    for feature in json_data['features']:\n",
        "      if feature['properties']['id'] == id:\n",
        "        feature['properties']['style'] = {}\n",
        "        blocks.append(feature)\n",
        "\n",
        "block = geemap.geojson_to_ee(blocks[0])\n"
      ],
      "metadata": {
        "id": "lQQUIYL5Zu7V"
      },
      "execution_count": null,
      "outputs": []
    },
    {
      "cell_type": "code",
      "source": [
        "# AOI\n",
        "\n",
        "aoi = ee.Geometry({\n",
        "        \"type\": \"Polygon\",\n",
        "        \"coordinates\": [\n",
        "          [\n",
        "            [\n",
        "              28.06574851376746,\n",
        "              -22.324553464205877\n",
        "            ],\n",
        "            [\n",
        "              28.06574851376746,\n",
        "              -26.01523517180692\n",
        "            ],\n",
        "            [\n",
        "              33.733773120836446,\n",
        "              -26.01523517180692\n",
        "            ],\n",
        "            [\n",
        "              33.733773120836446,\n",
        "              -22.324553464205877\n",
        "            ],\n",
        "            [\n",
        "              28.06574851376746,\n",
        "              -22.324553464205877\n",
        "            ]\n",
        "          ]\n",
        "        ],\n",
        "      })"
      ],
      "metadata": {
        "id": "BfKUbBdm_eKg"
      },
      "execution_count": null,
      "outputs": []
    },
    {
      "cell_type": "markdown",
      "source": [
        "# Prepare layers\n",
        "\n",
        "First, we experiment with 2022 for our AOI."
      ],
      "metadata": {
        "id": "_2mu1gRR_64b"
      }
    },
    {
      "cell_type": "code",
      "source": [
        "year = 2022\n",
        "start_date = '{}-01-01'.format(year)\n",
        "end_date = '{}-01-01'.format(year + 1)\n",
        "\n",
        "# Google Dynamic World\n",
        "people = ee.ImageCollection('GOOGLE/DYNAMICWORLD/V1').filterDate(start_date, end_date).median().select('label').eq(6).selfMask()\n",
        "certainty_mask = ee.ImageCollection('GOOGLE/DYNAMICWORLD/V1').filterDate(start_date, end_date).median().select('built').gt(0.06).selfMask()\n",
        "best_people = people.mask(certainty_mask).eq(1).selfMask()\n",
        "# people_c = ee.ImageCollection('GOOGLE/DYNAMICWORLD/V1').filterDate(start_date, end_date).median().select('built').mask(people)"
      ],
      "metadata": {
        "id": "JsSrCRJq4UtI"
      },
      "execution_count": null,
      "outputs": []
    },
    {
      "cell_type": "markdown",
      "source": [
        "Rasterise Google's Open Buildings"
      ],
      "metadata": {
        "id": "TgMXid3xA7dB"
      }
    },
    {
      "cell_type": "code",
      "source": [
        "# Google Open Buildings\n",
        "buildings = ee.FeatureCollection('GOOGLE/Research/open-buildings/v2/polygons').filter('confidence >= 0.70');\n",
        "\n",
        "buildings_raster = buildings.reduceToImage(\n",
        "  properties=['confidence'],\n",
        "  reducer=ee.Reducer.median()\n",
        ").gt(0).selfMask().select(['median'], ['label'])"
      ],
      "metadata": {
        "id": "CAcbf0rhA4q4"
      },
      "execution_count": null,
      "outputs": []
    },
    {
      "cell_type": "code",
      "source": [
        "# Join with other layers\n",
        "built = best_people.unmask(0).add(buildings_raster.unmask(0)).gt(0).selfMask()\n"
      ],
      "metadata": {
        "id": "_uYeg7amDUSb"
      },
      "execution_count": null,
      "outputs": []
    },
    {
      "cell_type": "markdown",
      "source": [
        "# Export layers\n"
      ],
      "metadata": {
        "id": "TWF6lvsxFNab"
      }
    },
    {
      "cell_type": "code",
      "source": [
        "# Set configurations for the export\n",
        "\n",
        "image_name = 'built2022_' + str(id)\n",
        "fileNamePrefix = 'COGS/built/built2022/' + image_name\n",
        "\n",
        "\n",
        "exportConfig = {\n",
        "    'image': buildings_raster,\n",
        "    'description': image_name,\n",
        "    'bucket': 'nature-watch-bucket',\n",
        "    'fileNamePrefix': fileNamePrefix,\n",
        "    'scale': 30,\n",
        "    'maxPixels': 3147239940,\n",
        "    'region': block,\n",
        "    'fileFormat': 'GeoTIFF',\n",
        "    'formatOptions': {'cloudOptimized': True}\n",
        "}\n",
        "\n",
        "task = ee.batch.Export.image.toCloudStorage(**exportConfig)\n",
        "task.start()"
      ],
      "metadata": {
        "id": "GE4EGqnjFP5K"
      },
      "execution_count": null,
      "outputs": []
    },
    {
      "cell_type": "code",
      "source": [
        "ee.data.listOperations()"
      ],
      "metadata": {
        "id": "fash0MQnHLLe"
      },
      "execution_count": null,
      "outputs": []
    },
    {
      "cell_type": "markdown",
      "source": [
        "# Map"
      ],
      "metadata": {
        "id": "ABpfNq5p4xJr"
      }
    },
    {
      "cell_type": "code",
      "source": [
        "Map = geemap.Map()\n",
        "Map.add_basemap('SATELLITE')\n",
        "\n",
        "# Map.addLayer(people, {'min':0, 'max':1, 'palette':['white','blue']}, 'people')\n",
        "# Map.addLayer(best_people, {'min':0, 'max':1, 'palette':['white','red']}, 'best_people')\n",
        "\n",
        "# Map.addLayer(buildings, {'color': 'red'}, 'Buildings confidence >= 0.70');\n",
        "# Map.addLayer(buildings_raster, {'min':0, 'max':1, 'palette':['white','red']}, 'buildings_raster')\n",
        "# Map.addLayer(gdw, {'min':0, 'max':8, 'palette':['419bdf', '397d49', '88b053', '7a87c6', 'e49635', 'dfc35a', 'c4281b', 'a59b8f', 'b39fe1']}, 'GDW')\n",
        "# Map.addLayer(people_c, {'min':0, 'max':0.1, 'palette':['white','blue']}, 'people_c')\n",
        "\n",
        "Map.addLayer(built, {}, 'built')\n",
        "\n",
        "Map.setCenter(31.944, -25.087, 16)\n",
        "Map\n"
      ],
      "metadata": {
        "id": "2tE6l2tE4zQ7"
      },
      "execution_count": null,
      "outputs": []
    }
  ],
  "metadata": {
    "colab": {
      "provenance": [],
      "collapsed_sections": [
        "z32MNb4_xsB7"
      ],
      "authorship_tag": "ABX9TyPYQA723vjz93dIF5oDzPOY"
    },
    "kernelspec": {
      "display_name": "Python 3",
      "name": "python3"
    },
    "language_info": {
      "name": "python"
    }
  },
  "nbformat": 4,
  "nbformat_minor": 0
}