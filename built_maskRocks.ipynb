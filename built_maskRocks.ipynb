{
  "cells": [
    {
      "cell_type": "markdown",
      "source": [
        "# Summary\n",
        "1. We select the built class of Google Dynamic World (GDW) and filter the certainty to be greater than 0.06, as the highest false positive in the grassland had a certainty of 0.0569.\n",
        "2. We also mask resulting GDW layer with a rock mask, which we manually drew from false positives from the Google Dynamic World built class.\n",
        "3. We import Google Open Buildings, 2022 (GOB), convert it to raster and combine the GDW.\n",
        "4. Splitting up Africa in blocks, we then export the resulting combined built layer to Google Cloud Storage.\n",
        "\n",
        "### Future\n",
        "- Conduct similar analysis for all years\n",
        "- Improve years before GDW (2022)"
      ],
      "metadata": {
        "id": "PNr6n2d-Xt2a"
      }
    },
    {
      "cell_type": "markdown",
      "metadata": {
        "id": "z32MNb4_xsB7"
      },
      "source": [
        "# Setting up the environment"
      ]
    },
    {
      "cell_type": "code",
      "execution_count": null,
      "metadata": {
        "id": "xX91gkFHtj-5"
      },
      "outputs": [],
      "source": [
        "# Import and/or install libraries\n",
        "import subprocess, os, gcsfs, json\n",
        "\n",
        "try:\n",
        "    import geemap, ee\n",
        "except ImportError:\n",
        "    subprocess.check_call([\"python\", '-m', 'pip', 'install', '-U', 'geemap'])\n",
        "    import geemap, ee\n"
      ]
    },
    {
      "cell_type": "code",
      "execution_count": null,
      "metadata": {
        "id": "gd4amEOkxAJ1"
      },
      "outputs": [],
      "source": [
        "# Connect to Google Drive to access files\n",
        "\n",
        "from google.colab import drive\n",
        "drive.mount('/content/drive')"
      ]
    },
    {
      "cell_type": "code",
      "execution_count": null,
      "metadata": {
        "id": "QEtv-EFnvqgQ"
      },
      "outputs": [],
      "source": [
        "# Connect to Google Earth Engine if neccessary\n",
        "\n",
        "service_account = os.environ.get('GOOGLE_SERVICE_ACCOUNT')\n",
        "credentials = ee.ServiceAccountCredentials(service_account, os.environ.get('GOOGLE_APPLICATION_CREDENTIALS'))\n",
        "ee.Initialize(credentials)"
      ]
    },
    {
      "cell_type": "code",
      "source": [
        "block_list = list(range(1, 26))\n",
        "\n",
        "blocks = []\n",
        "with open(\"/content/drive/MyDrive/data/blocks.geojson\") as f:\n",
        "    json_data = json.load(f)\n",
        "    for block_id in block_list:\n",
        "        for feature in json_data['features']:\n",
        "            if feature['properties']['id'] == block_id:\n",
        "                feature['properties']['style'] = {}\n",
        "                blocks.append(feature)\n",
        "\n",
        "ee_blocks = [geemap.geojson_to_ee(block) for block in blocks]"
      ],
      "metadata": {
        "id": "taEK7acG0wnS"
      },
      "execution_count": null,
      "outputs": []
    },
    {
      "cell_type": "code",
      "source": [
        "# Import rockMask from GoogleCloud\n",
        "fs = gcsfs.GCSFileSystem(project='nature-watch-387210')\n",
        "\n",
        "with fs.open('gs://nature-watch-bucket/vector/rocks.geojson', 'r') as f:\n",
        "    data = json.load(f)\n",
        "\n",
        "rocks = geemap.geojson_to_ee(data)"
      ],
      "metadata": {
        "id": "A1GSuyoVzuet"
      },
      "execution_count": null,
      "outputs": []
    },
    {
      "cell_type": "code",
      "source": [
        "# Prepare layers\n",
        "year = 2022\n",
        "start_date = '{}-01-01'.format(year)\n",
        "end_date = '{}-01-01'.format(year + 1)\n",
        "\n",
        "# Google Dynamic World\n",
        "people = ee.ImageCollection('GOOGLE/DYNAMICWORLD/V1').filterDate(start_date, end_date).median().select('label').eq(6).selfMask()\n",
        "certainty_mask = ee.ImageCollection('GOOGLE/DYNAMICWORLD/V1').filterDate(start_date, end_date).median().select('built').gt(0.06).selfMask()\n",
        "best_people = people.mask(certainty_mask).eq(1).selfMask().unmask()\n",
        "\n",
        "# Use the rock mask\n",
        "raster_mask = ee.Image().paint(rocks, 1).Not()\n",
        "best_people2 = best_people.updateMask(raster_mask)"
      ],
      "metadata": {
        "id": "Pbl2s-Rp1dqT"
      },
      "execution_count": null,
      "outputs": []
    },
    {
      "cell_type": "code",
      "source": [
        "Map = geemap.Map()\n",
        "Map.add_basemap('SATELLITE')\n",
        "Map.addLayer(rocks, {}, 'rocks')\n",
        "Map.addLayer(best_people, {}, 'best_people')\n",
        "Map.addLayer(best_people2, {}, 'best_people2')\n",
        "Map.setCenter(31.944, -25.087, 12)\n",
        "Map"
      ],
      "metadata": {
        "id": "ULZ-JLZ50GnC"
      },
      "execution_count": null,
      "outputs": []
    }
  ],
  "metadata": {
    "colab": {
      "provenance": [],
      "authorship_tag": "ABX9TyN2yvfdGHqfrqP/TGc2+Ytq"
    },
    "kernelspec": {
      "display_name": "Python 3",
      "name": "python3"
    },
    "language_info": {
      "name": "python"
    }
  },
  "nbformat": 4,
  "nbformat_minor": 0
}