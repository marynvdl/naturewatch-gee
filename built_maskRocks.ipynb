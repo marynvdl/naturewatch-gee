{
  "cells": [
    {
      "cell_type": "markdown",
      "source": [
        "# Summary\n",
        "1. We select the built class of Google Dynamic World (GDW) and filter the certainty to be greater than 0.06, as the highest false positive in the grassland had a certainty of 0.0569.\n",
        "2. We also mask resulting GDW layer with a rock mask, which we manually drew from false positives from the Google Dynamic World built class.\n",
        "3. We import Google Open Buildings, 2022 (GOB), convert it to raster and combine the GDW.\n",
        "4. Splitting up Africa in blocks, we then export the resulting combined built layer to Google Cloud Storage.\n",
        "\n",
        "### Future\n",
        "- Conduct similar analysis for all years\n",
        "- Improve years before GDW (2022)"
      ],
      "metadata": {
        "id": "PNr6n2d-Xt2a"
      }
    },
    {
      "cell_type": "markdown",
      "metadata": {
        "id": "z32MNb4_xsB7"
      },
      "source": [
        "# Setting up the environment"
      ]
    },
    {
      "cell_type": "code",
      "execution_count": null,
      "metadata": {
        "id": "xX91gkFHtj-5"
      },
      "outputs": [],
      "source": [
        "# Import and/or install libraries\n",
        "import subprocess, os, gcsfs, json\n",
        "\n",
        "try:\n",
        "    import geemap, ee\n",
        "except ImportError:\n",
        "    subprocess.check_call([\"python\", '-m', 'pip', 'install', '-U', 'geemap'])\n",
        "    import geemap, ee\n"
      ]
    },
    {
      "cell_type": "code",
      "execution_count": null,
      "metadata": {
        "id": "gd4amEOkxAJ1"
      },
      "outputs": [],
      "source": [
        "# Connect to Google Drive to access files\n",
        "\n",
        "from google.colab import drive\n",
        "drive.mount('/content/drive')"
      ]
    },
    {
      "cell_type": "code",
      "execution_count": null,
      "metadata": {
        "id": "QEtv-EFnvqgQ"
      },
      "outputs": [],
      "source": [
        "# Connect to Google Earth Engine if neccessary\n",
        "\n",
        "service_account = os.environ.get('GOOGLE_SERVICE_ACCOUNT')\n",
        "credentials = ee.ServiceAccountCredentials(service_account, os.environ.get('GOOGLE_APPLICATION_CREDENTIALS'))\n",
        "ee.Initialize(credentials)"
      ]
    },
    {
      "cell_type": "code",
      "source": [
        "# Import rockMask from GoogleCloud\n",
        "fs = gcsfs.GCSFileSystem(project='nature-watch-387210')\n",
        "\n",
        "with fs.open('gs://nature-watch-bucket/vector/rocks.geojson', 'r') as f:\n",
        "    data = json.load(f)\n",
        "\n",
        "ee_object = geemap.geojson_to_ee(data)"
      ],
      "metadata": {
        "id": "A1GSuyoVzuet"
      },
      "execution_count": null,
      "outputs": []
    },
    {
      "cell_type": "code",
      "source": [
        "Map = geemap.Map()\n",
        "Map.add_basemap('SATELLITE')\n",
        "Map.addLayer(ee_object, {}, 'polygons')\n",
        "Map"
      ],
      "metadata": {
        "id": "ULZ-JLZ50GnC"
      },
      "execution_count": null,
      "outputs": []
    }
  ],
  "metadata": {
    "colab": {
      "provenance": [],
      "authorship_tag": "ABX9TyNrEBkWxxa4P3ScnrWDNccu"
    },
    "kernelspec": {
      "display_name": "Python 3",
      "name": "python3"
    },
    "language_info": {
      "name": "python"
    }
  },
  "nbformat": 4,
  "nbformat_minor": 0
}