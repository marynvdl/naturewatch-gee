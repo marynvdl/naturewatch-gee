{
  "cells": [
    {
      "cell_type": "markdown",
      "source": [
        "# Summary\n",
        "1. We select the built class of Google Dynamic World (GDW) and filter the certainty to be greater than 0.06, as the highest false positive in the grassland had a certainty of 0.0569.\n",
        "2. We also mask resulting GDW layer with a rock mask, which we manually drew from false positives from the Google Dynamic World built class.\n",
        "3. We import Google Open Buildings, 2022 (GOB), convert it to raster and combine the GDW.\n",
        "4. Splitting up Africa in blocks, we then export the resulting combined built layer to Google Cloud Storage.\n",
        "\n",
        "### Future\n",
        "- Conduct similar analysis for all years\n",
        "- Improve years before GDW (2022)"
      ],
      "metadata": {
        "id": "PNr6n2d-Xt2a"
      }
    },
    {
      "cell_type": "markdown",
      "metadata": {
        "id": "z32MNb4_xsB7"
      },
      "source": [
        "# Setting up the environment"
      ]
    },
    {
      "cell_type": "code",
      "execution_count": null,
      "metadata": {
        "id": "xX91gkFHtj-5"
      },
      "outputs": [],
      "source": [
        "# Import and/or install libraries\n",
        "import subprocess, os, gcsfs, json\n",
        "\n",
        "try:\n",
        "    import geemap, ee\n",
        "except ImportError:\n",
        "    subprocess.check_call([\"python\", '-m', 'pip', 'install', '-U', 'geemap'])\n",
        "    import geemap, ee\n"
      ]
    },
    {
      "cell_type": "code",
      "execution_count": null,
      "metadata": {
        "id": "gd4amEOkxAJ1"
      },
      "outputs": [],
      "source": [
        "# Connect to Google Drive to access files\n",
        "\n",
        "from google.colab import drive\n",
        "drive.mount('/content/drive')"
      ]
    },
    {
      "cell_type": "code",
      "execution_count": null,
      "metadata": {
        "id": "QEtv-EFnvqgQ"
      },
      "outputs": [],
      "source": [
        "# Connect to Google Earth Engine if neccessary\n",
        "\n",
        "service_account = os.environ.get('GOOGLE_SERVICE_ACCOUNT')\n",
        "credentials = ee.ServiceAccountCredentials(service_account, os.environ.get('GOOGLE_APPLICATION_CREDENTIALS'))\n",
        "ee.Initialize(credentials)"
      ]
    },
    {
      "cell_type": "code",
      "source": [
        "block_list = list(range(1, 26))\n",
        "\n",
        "blocks = []\n",
        "with open(\"/content/drive/MyDrive/data/blocks.geojson\") as f:\n",
        "    json_data = json.load(f)\n",
        "    for block_id in block_list:\n",
        "        for feature in json_data['features']:\n",
        "            if feature['properties']['id'] == block_id:\n",
        "                feature['properties']['style'] = {}\n",
        "                blocks.append(feature)\n",
        "\n",
        "ee_blocks = [geemap.geojson_to_ee(block) for block in blocks]"
      ],
      "metadata": {
        "id": "taEK7acG0wnS"
      },
      "execution_count": null,
      "outputs": []
    },
    {
      "cell_type": "code",
      "source": [
        "# Import rockMask from GoogleCloud\n",
        "fs = gcsfs.GCSFileSystem(project='nature-watch-387210')\n",
        "\n",
        "with fs.open('gs://nature-watch-bucket/vector/built_rock_mask.geojson', 'r') as f:\n",
        "    data = json.load(f)\n",
        "\n",
        "rocks = geemap.geojson_to_ee(data)"
      ],
      "metadata": {
        "id": "A1GSuyoVzuet"
      },
      "execution_count": null,
      "outputs": []
    },
    {
      "cell_type": "code",
      "source": [
        "# Specify dates\n",
        "year = 2022\n",
        "start_date = '{}-01-01'.format(year)\n",
        "end_date = '{}-01-01'.format(year + 1)\n"
      ],
      "metadata": {
        "id": "DKX06WEH2Hbg"
      },
      "execution_count": null,
      "outputs": []
    },
    {
      "cell_type": "code",
      "source": [
        "CLOUD_FILTER = 70\n",
        "CLD_PRB_THRESH = 5\n",
        "NIR_DRK_THRESH = 0.15\n",
        "CLD_PRJ_DIST = 1\n",
        "BUFFER = 50\n",
        "\n",
        "\n",
        "def get_s2_sr_cld_col(datefilter):\n",
        "    s2_sr_col = (ee.ImageCollection('COPERNICUS/S2_SR')\n",
        "        .filter(datefilter)\n",
        "        .filter(ee.Filter.lte('CLOUDY_PIXEL_PERCENTAGE', CLOUD_FILTER)))\n",
        "\n",
        "    s2_cloudless_col = (ee.ImageCollection('COPERNICUS/S2_CLOUD_PROBABILITY')\n",
        "        .filter(datefilter)\n",
        "        )\n",
        "\n",
        "    return ee.ImageCollection(ee.Join.saveFirst('s2cloudless').apply(**{\n",
        "        'primary': s2_sr_col,\n",
        "        'secondary': s2_cloudless_col,\n",
        "        'condition': ee.Filter.equals(**{\n",
        "            'leftField': 'system:index',\n",
        "            'rightField': 'system:index'\n",
        "        })\n",
        "    }))\n",
        "\n",
        "\n",
        "def add_cloud_bands(img):\n",
        "    cld_prb = ee.Image(img.get('s2cloudless')).select('probability')\n",
        "    is_cloud = cld_prb.gt(CLD_PRB_THRESH).rename('clouds')\n",
        "    return img.addBands(ee.Image([cld_prb, is_cloud]))\n",
        "\n",
        "\n",
        "def add_shadow_bands(img):\n",
        "    # Identify water pixels from the SCL band.\n",
        "    not_water = img.select('SCL').neq(6)\n",
        "\n",
        "    # Identify dark NIR pixels that are not water (potential cloud shadow pixels).\n",
        "    SR_BAND_SCALE = 1e4\n",
        "    dark_pixels = img.select('B8').lt(NIR_DRK_THRESH*SR_BAND_SCALE).multiply(not_water).rename('dark_pixels')\n",
        "\n",
        "    # Determine the direction to project cloud shadow from clouds (assumes UTM projection).\n",
        "    shadow_azimuth = ee.Number(90).subtract(ee.Number(img.get('MEAN_SOLAR_AZIMUTH_ANGLE')));\n",
        "\n",
        "    # Project shadows from clouds for the distance specified by the CLD_PRJ_DIST input.\n",
        "    cld_proj = (img.select('clouds').directionalDistanceTransform(shadow_azimuth, CLD_PRJ_DIST*10)\n",
        "        .reproject(**{'crs': img.select(0).projection(), 'scale': 100})\n",
        "        .select('distance')\n",
        "        .mask()\n",
        "        .rename('cloud_transform'))\n",
        "\n",
        "    # Identify the intersection of dark pixels with cloud shadow projection.\n",
        "    shadows = cld_proj.multiply(dark_pixels).rename('shadows')\n",
        "\n",
        "    # Add dark pixels, cloud projection, and identified shadows as image bands.\n",
        "    return img.addBands(ee.Image([dark_pixels, cld_proj, shadows]))\n",
        "\n",
        "def add_cld_shdw_mask(img):\n",
        "    # Add cloud component bands.\n",
        "    img_cloud = add_cloud_bands(img)\n",
        "\n",
        "    # Add cloud shadow component bands.\n",
        "    img_cloud_shadow = add_shadow_bands(img_cloud)\n",
        "\n",
        "    # Combine cloud and shadow mask, set cloud and shadow as value 1, else 0.\n",
        "    is_cld_shdw = img_cloud_shadow.select('clouds').add(img_cloud_shadow.select('shadows')).gt(0)\n",
        "\n",
        "    # Remove small cloud-shadow patches and dilate remaining pixels by BUFFER input.\n",
        "    # 20 m scale is for speed, and assumes clouds don't require 10 m precision.\n",
        "    is_cld_shdw = (is_cld_shdw.focalMin(2).focalMax(BUFFER*2/20)\n",
        "        .reproject(**{'crs': img.select([0]).projection(), 'scale': 20})\n",
        "        .rename('cloudmask'))\n",
        "\n",
        "    # Add the final cloud-shadow mask to the image.\n",
        "    return img_cloud_shadow.addBands(is_cld_shdw)\n",
        "\n",
        "\n",
        "def apply_cld_shdw_mask(img):\n",
        "    # Subset the cloudmask band and invert it so clouds/shadow are 0, else 1.\n",
        "    not_cld_shdw = img.select('cloudmask').Not()\n",
        "\n",
        "    # Subset reflectance bands and update their masks, return the result.\n",
        "    return img.select('B.*').updateMask(not_cld_shdw)\n",
        "\n",
        "\n",
        "date_filter = ee.Filter.date(ee.Date(start_date), ee.Date(end_date))\n",
        "sentinel = get_s2_sr_cld_col(date_filter).map(add_cld_shdw_mask)\n",
        "\n",
        "\n",
        "print(sentinel.first().bandNames().getInfo())"
      ],
      "metadata": {
        "id": "IylWk6PS09Lc"
      },
      "execution_count": null,
      "outputs": []
    },
    {
      "cell_type": "code",
      "source": [
        "# Mask Dynamic World\n",
        "\n",
        "def mask_dynamicworld_by_sentinel(dw_image):\n",
        "    # Get the date of the DYNAMICWORLD image\n",
        "    dw_date = dw_image.date()\n",
        "\n",
        "    # Filter the Sentinel collection to get the corresponding image\n",
        "    sentinel_mask_img = sentinel.filterDate(dw_date.advance(-0.5, 'day'), dw_date.advance(0.5, 'day')).median()\n",
        "\n",
        "    # Ensure there's a matching image in the Sentinel collection\n",
        "    if not sentinel_mask_img:\n",
        "        return dw_image\n",
        "\n",
        "    # Get the cloudmask from the Sentinel image and apply it to the DYNAMICWORLD image\n",
        "    cloudmask = sentinel_mask_img.select('cloudmask').Not()\n",
        "    return dw_image.updateMask(cloudmask)\n",
        "\n",
        "# Apply the mask to each image in the DYNAMICWORLD collection\n",
        "people = ee.ImageCollection('GOOGLE/DYNAMICWORLD/V1').filterDate(start_date, end_date)\n",
        "masked_people = people.map(mask_dynamicworld_by_sentinel)\n",
        "\n"
      ],
      "metadata": {
        "id": "S3Huxz6nOLPs"
      },
      "execution_count": null,
      "outputs": []
    },
    {
      "cell_type": "code",
      "source": [
        "# Prepare layers\n",
        "\n",
        "# Google Dynamic World\n",
        "people = ee.ImageCollection('GOOGLE/DYNAMICWORLD/V1').filterDate(start_date, end_date).median().select('label').eq(6).selfMask()\n",
        "certainty_mask = ee.ImageCollection('GOOGLE/DYNAMICWORLD/V1').filterDate(start_date, end_date).median().select('built').gt(0.06).selfMask()\n",
        "best_people = people.mask(certainty_mask).eq(1).updateMask(cloud_mask).selfMask().unmask()\n",
        "\n",
        "# Use the rock mask\n",
        "raster_mask = ee.Image.constant(1).paint(rocks, 0)\n",
        "people_rock_masked = best_people.mask(raster_mask).unmask(0).selfMask()\n",
        "\n",
        "# Google Open Buildings\n",
        "buildings = ee.FeatureCollection('GOOGLE/Research/open-buildings/v2/polygons').filter('confidence >= 0.70');\n",
        "buildings_raster = buildings.reduceToImage(\n",
        "  properties=['confidence'],\n",
        "  reducer=ee.Reducer.median()\n",
        ").gt(0).selfMask().select(['median'], ['label'])\n",
        "\n",
        "# Join with other layers\n",
        "built = people_rock_masked.unmask(0).add(buildings_raster.unmask(0)).gt(0).selfMask()\n"
      ],
      "metadata": {
        "id": "Pbl2s-Rp1dqT"
      },
      "execution_count": null,
      "outputs": []
    },
    {
      "cell_type": "code",
      "source": [
        "# Loop through blocks and export\n",
        "for id, block in enumerate(ee_blocks):\n",
        "  image_name = 'built2022_' + str(id)\n",
        "  fileNamePrefix = 'COGS/built/built2022/' + image_name\n",
        "\n",
        "\n",
        "  exportConfig = {\n",
        "      'image': built,\n",
        "      'description': image_name,\n",
        "      'bucket': 'nature-watch-bucket',\n",
        "      'fileNamePrefix': fileNamePrefix,\n",
        "      'scale': 30,\n",
        "      'maxPixels': 3147395000,\n",
        "      'region': block,\n",
        "      'fileFormat': 'GeoTIFF',\n",
        "      'formatOptions': {'cloudOptimized': True}\n",
        "  }\n",
        "\n",
        "  task = ee.batch.Export.image.toCloudStorage(**exportConfig)\n",
        "  task.start()"
      ],
      "metadata": {
        "id": "l9NiX3Y9KBCr"
      },
      "execution_count": null,
      "outputs": []
    },
    {
      "cell_type": "code",
      "source": [
        "ee.data.listOperations()"
      ],
      "metadata": {
        "id": "MiPYktsRLXBX"
      },
      "execution_count": null,
      "outputs": []
    },
    {
      "cell_type": "code",
      "source": [
        "certainty = ee.ImageCollection('GOOGLE/DYNAMICWORLD/V1').filterDate(start_date, end_date).median().select('built')\n",
        "\n",
        "\n",
        "visDW = {'min': 0, 'max': 8, 'palette': [\n",
        "    '419bdf', '397d49', '88b053', '7a87c6', 'e49635', 'dfc35a', 'c4281b',\n",
        "    'a59b8f', 'b39fe1']}\n",
        "\n",
        "Map = geemap.Map()\n",
        "Map.add_basemap('SATELLITE')\n",
        "# Map.addLayer(certainty, {}, 'certainty')\n",
        "Map.addLayer(masked_people.median().select('label'), visDW, 'masked_people')\n",
        "\n",
        "Map.setCenter(11.475, 1.604, 12)\n",
        "Map"
      ],
      "metadata": {
        "id": "ULZ-JLZ50GnC"
      },
      "execution_count": null,
      "outputs": []
    }
  ],
  "metadata": {
    "colab": {
      "provenance": [],
      "authorship_tag": "ABX9TyPcGObPmvEETYnr60kwKdX7"
    },
    "kernelspec": {
      "display_name": "Python 3",
      "name": "python3"
    },
    "language_info": {
      "name": "python"
    }
  },
  "nbformat": 4,
  "nbformat_minor": 0
}