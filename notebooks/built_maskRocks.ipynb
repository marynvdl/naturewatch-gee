{
  "cells": [
    {
      "cell_type": "markdown",
      "source": [
        "# Summary\n",
        "### Option 1:\n",
        "1. We filter the certainty of the built class to be greater than 0.62 of Google Dynamic World (GDW).\n",
        "2. We also mask resulting GDW layer with a rock mask, which we manually drew from false positives from the Google Dynamic World built class.\n",
        "3. We import Google Open Buildings, 2022 (GOB), convert it to raster and combine the GDW.\n",
        "4. Splitting up Africa in blocks, we then export the resulting combined built layer to Google Cloud Storage.\n",
        "\n",
        "### Option 2:\n",
        "1. We import Google Open Buildings, 2022 (GOB), convert it to raster and combine the GDW.\n",
        "2. For the missing countries and provinces, we use Global Human Settlements\n",
        "2. Splitting up Africa in blocks, we then export the resulting combined built layer to Google Cloud Storage.\n",
        "\n",
        "### Future\n",
        "- Currently when combining Global Human Settlements with Google Open Buildings it only takes the extent of the Settlements"
      ],
      "metadata": {
        "id": "PNr6n2d-Xt2a"
      }
    },
    {
      "cell_type": "markdown",
      "metadata": {
        "id": "z32MNb4_xsB7"
      },
      "source": [
        "# Setting up the environment"
      ]
    },
    {
      "cell_type": "code",
      "execution_count": null,
      "metadata": {
        "id": "xX91gkFHtj-5"
      },
      "outputs": [],
      "source": [
        "# Import and/or install libraries\n",
        "import subprocess, os, gcsfs, json\n",
        "\n",
        "try:\n",
        "    import geemap, ee\n",
        "except ImportError:\n",
        "    subprocess.check_call([\"python\", '-m', 'pip', 'install', '-U', 'geemap'])\n",
        "    import geemap, ee\n"
      ]
    },
    {
      "cell_type": "code",
      "execution_count": null,
      "metadata": {
        "id": "gd4amEOkxAJ1"
      },
      "outputs": [],
      "source": [
        "# Connect to Google Drive to access files\n",
        "\n",
        "from google.colab import drive\n",
        "drive.mount('/content/drive')"
      ]
    },
    {
      "cell_type": "code",
      "execution_count": null,
      "metadata": {
        "id": "QEtv-EFnvqgQ"
      },
      "outputs": [],
      "source": [
        "# Connect to Google Earth Engine if neccessary\n",
        "\n",
        "service_account = os.environ.get('GOOGLE_SERVICE_ACCOUNT')\n",
        "credentials = ee.ServiceAccountCredentials(service_account, os.environ.get('GOOGLE_APPLICATION_CREDENTIALS'))\n",
        "ee.Initialize(credentials)"
      ]
    },
    {
      "cell_type": "code",
      "source": [
        "block_list = list(range(1, 26))\n",
        "\n",
        "blocks = []\n",
        "with open(\"/content/drive/MyDrive/data/blocks.geojson\") as f:\n",
        "    json_data = json.load(f)\n",
        "    for block_id in block_list:\n",
        "        for feature in json_data['features']:\n",
        "            if feature['properties']['id'] == block_id:\n",
        "                feature['properties']['style'] = {}\n",
        "                blocks.append(feature)\n",
        "\n",
        "ee_blocks = [geemap.geojson_to_ee(block) for block in blocks]"
      ],
      "metadata": {
        "id": "taEK7acG0wnS"
      },
      "execution_count": null,
      "outputs": []
    },
    {
      "cell_type": "markdown",
      "source": [
        "# Option 1: before 2023"
      ],
      "metadata": {
        "id": "8jcW2hgrWuio"
      }
    },
    {
      "cell_type": "code",
      "source": [
        "# Import rockMask from GoogleCloud\n",
        "fs = gcsfs.GCSFileSystem(project='nature-watch-387210')\n",
        "\n",
        "with fs.open('gs://nature-watch-bucket/vector/built_rock_mask.geojson', 'r') as f:\n",
        "    data = json.load(f)\n",
        "\n",
        "rocks = geemap.geojson_to_ee(data)"
      ],
      "metadata": {
        "id": "A1GSuyoVzuet"
      },
      "execution_count": null,
      "outputs": []
    },
    {
      "cell_type": "code",
      "source": [
        "# Specify dates\n",
        "year = 2021\n",
        "start_date = '{}-01-01'.format(year)\n",
        "end_date = '{}-01-01'.format(year + 1)"
      ],
      "metadata": {
        "id": "DKX06WEH2Hbg"
      },
      "execution_count": null,
      "outputs": []
    },
    {
      "cell_type": "code",
      "source": [
        "# Prepare layers\n",
        "\n",
        "# Google Dynamic World\n",
        "best_people = ee.ImageCollection('GOOGLE/DYNAMICWORLD/V1').filterDate(start_date, end_date).median().select('built').gt(0.62).selfMask()\n",
        "\n",
        "# Use the rock mask\n",
        "raster_mask = ee.Image.constant(1).paint(rocks, 0)\n",
        "people_rock_masked = best_people.mask(raster_mask).unmask(0).selfMask()\n",
        "\n",
        "# Google Open Buildings\n",
        "# 2023: v3\n",
        "# 2022: v2: confidence >= 0.70\n",
        "# 2021: v1: confidence >= 0.80\n",
        "\n",
        "buildings = ee.FeatureCollection('GOOGLE/Research/open-buildings/v1/polygons').filter('confidence >= 0.80');\n",
        "\n",
        "buildings_raster = buildings.reduceToImage(\n",
        "  properties=['confidence'],\n",
        "  reducer=ee.Reducer.median()\n",
        ").gt(0).selfMask().select(['median'], ['label'])\n",
        "\n",
        "# Join with other layers\n",
        "built = people_rock_masked.unmask(0).add(buildings_raster.unmask(0)).gt(0).selfMask()\n"
      ],
      "metadata": {
        "id": "Pbl2s-Rp1dqT"
      },
      "execution_count": null,
      "outputs": []
    },
    {
      "cell_type": "markdown",
      "source": [
        "# Option 2: 2023\n",
        "Combining Open Buildings V3 with [Global Human Settlements](https://gee-community-catalog.org/projects/ghsl/) of 2020 for missing countries."
      ],
      "metadata": {
        "id": "kyMp2lQhWy6v"
      }
    },
    {
      "cell_type": "code",
      "source": [
        "# Prepare layers\n",
        "\n",
        "# Google Open Buildings\n",
        "# 2023: v3\n",
        "# 2022: v2: confidence >= 0.70\n",
        "# 2021: v1: confidence >= 0.80\n",
        "\n",
        "buildings = ee.FeatureCollection('GOOGLE/Research/open-buildings/v3/polygons').filter('confidence >= 0.80');\n",
        "\n",
        "buildings_raster = buildings.reduceToImage(\n",
        "  properties=['confidence'],\n",
        "  reducer=ee.Reducer.median()\n",
        ").gt(0).selfMask().select(['median'], ['label'])\n",
        "\n",
        "# Import country borders and filter\n",
        "countries = ee.FeatureCollection(\"FAO/GAUL/2015/level0\")\n",
        "missing_countries = ['Western Sahara', 'Morocco', 'Mali', 'Libya', 'Chad']\n",
        "filtered_countries = countries.filter(ee.Filter.inList('ADM0_NAME', ee.List(missing_countries)))\n",
        "\n",
        "provinces = ee.FeatureCollection(\"FAO/GAUL/2015/level1\")\n",
        "missing_provinces = ['Cabo Delgado', 'Diffa']\n",
        "filtered_provinces = provinces.filter(ee.Filter.inList('ADM1_NAME', ee.List(missing_provinces)))\n",
        "\n",
        "filtered_boundaries = filtered_countries.merge(filtered_provinces)\n",
        "\n",
        "# Import population dynamics\n",
        "GHS_POP = ee.Image(\"projects/sat-io/open-datasets/GHS/GHS_POP/GHS_POP_E2020_GLOBE_R2023A_54009_100_V1_0\").clip(filtered_boundaries.geometry()).gt(0).selfMask();\n",
        "\n",
        "\n",
        "\n"
      ],
      "metadata": {
        "id": "XB7aFFE4W9sF"
      },
      "execution_count": null,
      "outputs": []
    },
    {
      "cell_type": "code",
      "source": [
        "# Join with other layers\n",
        "built_collection = ee.ImageCollection([buildings_raster.unmask(0).rename('b1'), GHS_POP.unmask(0)])\n",
        "built = built_collection.sum().gt(0).selfMask()\n"
      ],
      "metadata": {
        "id": "8lM2fvp--DMO"
      },
      "execution_count": null,
      "outputs": []
    },
    {
      "cell_type": "markdown",
      "source": [
        "# Export"
      ],
      "metadata": {
        "id": "lLMVqoSsW-G3"
      }
    },
    {
      "cell_type": "code",
      "source": [
        "# Loop through blocks and export\n",
        "for id, block in enumerate(ee_blocks):\n",
        "  if id != 13:\n",
        "    image_name = 'built2023_' + str(id)\n",
        "    fileNamePrefix = 'COGS/built/2023/' + image_name\n",
        "\n",
        "\n",
        "    exportConfig = {\n",
        "        'image': built,\n",
        "        'description': image_name,\n",
        "        'bucket': 'nature-watch-bucket',\n",
        "        'fileNamePrefix': fileNamePrefix,\n",
        "        'scale': 30,\n",
        "        'maxPixels': 3867395000,\n",
        "        'region': block,\n",
        "        'fileFormat': 'GeoTIFF',\n",
        "        'formatOptions': {'cloudOptimized': True}\n",
        "    }\n",
        "\n",
        "    task = ee.batch.Export.image.toCloudStorage(**exportConfig)\n",
        "    task.start()"
      ],
      "metadata": {
        "id": "l9NiX3Y9KBCr"
      },
      "execution_count": null,
      "outputs": []
    },
    {
      "cell_type": "code",
      "source": [
        "# Or just export one block\n",
        "id = 19\n",
        "block = ee_blocks[id]\n",
        "\n",
        "\n",
        "image_name = 'built2023_' + str(id)\n",
        "fileNamePrefix = 'COGS/built/2023/' + image_name\n",
        "\n",
        "\n",
        "exportConfig = {\n",
        "    'image': built,\n",
        "    'description': image_name,\n",
        "    'bucket': 'nature-watch-bucket',\n",
        "    'fileNamePrefix': fileNamePrefix,\n",
        "    'scale': 30,\n",
        "    'maxPixels': 3867395000,\n",
        "    'region': block,\n",
        "    'fileFormat': 'GeoTIFF',\n",
        "    'formatOptions': {'cloudOptimized': True}\n",
        "}\n",
        "\n",
        "task = ee.batch.Export.image.toCloudStorage(**exportConfig)\n",
        "task.start()"
      ],
      "metadata": {
        "id": "jUzSiGBeu1n8"
      },
      "execution_count": null,
      "outputs": []
    },
    {
      "cell_type": "code",
      "source": [
        "ee.data.listOperations()"
      ],
      "metadata": {
        "id": "MiPYktsRLXBX"
      },
      "execution_count": null,
      "outputs": []
    },
    {
      "cell_type": "code",
      "source": [
        "buildings2 = ee.FeatureCollection('GOOGLE/Research/open-buildings/v3/polygons')"
      ],
      "metadata": {
        "id": "GAXDceCkX3ZT"
      },
      "execution_count": null,
      "outputs": []
    },
    {
      "cell_type": "code",
      "source": [
        "Map = geemap.Map()\n",
        "Map.add_basemap('SATELLITE')\n",
        "Map.addLayer(buildings2, {}, 'buildings2')\n",
        "\n",
        "Map.setCenter(31.47, -24.98, 12)\n",
        "Map"
      ],
      "metadata": {
        "id": "ULZ-JLZ50GnC"
      },
      "execution_count": null,
      "outputs": []
    }
  ],
  "metadata": {
    "colab": {
      "provenance": [],
      "authorship_tag": "ABX9TyPk68mP4lP5g4XUGMoctuXa"
    },
    "kernelspec": {
      "display_name": "Python 3",
      "name": "python3"
    },
    "language_info": {
      "name": "python"
    }
  },
  "nbformat": 4,
  "nbformat_minor": 0
}