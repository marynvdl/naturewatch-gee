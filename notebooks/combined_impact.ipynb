{
  "cells": [
    {
      "cell_type": "markdown",
      "source": [
        "# Summary\n",
        "Here, we combine all impact layers to create a composite human impact layers."
      ],
      "metadata": {
        "id": "PNr6n2d-Xt2a"
      }
    },
    {
      "cell_type": "markdown",
      "metadata": {
        "id": "z32MNb4_xsB7"
      },
      "source": [
        "# Setting up the environment"
      ]
    },
    {
      "cell_type": "code",
      "execution_count": null,
      "metadata": {
        "id": "xX91gkFHtj-5"
      },
      "outputs": [],
      "source": [
        "# Import and/or install libraries\n",
        "import subprocess, os, gcsfs, json\n",
        "\n",
        "try:\n",
        "    import geemap, ee\n",
        "except ImportError:\n",
        "    subprocess.check_call([\"python\", '-m', 'pip', 'install', '-U', 'geemap'])\n",
        "    import geemap, ee\n"
      ]
    },
    {
      "cell_type": "code",
      "execution_count": null,
      "metadata": {
        "id": "gd4amEOkxAJ1"
      },
      "outputs": [],
      "source": [
        "# Connect to Google Drive to access files\n",
        "\n",
        "from google.colab import drive\n",
        "drive.mount('/content/drive')"
      ]
    },
    {
      "cell_type": "code",
      "execution_count": null,
      "metadata": {
        "id": "QEtv-EFnvqgQ"
      },
      "outputs": [],
      "source": [
        "# Connect to Google Earth Engine if neccessary\n",
        "\n",
        "service_account = os.environ.get('GOOGLE_SERVICE_ACCOUNT')\n",
        "credentials = ee.ServiceAccountCredentials(service_account, os.environ.get('GOOGLE_APPLICATION_CREDENTIALS'))\n",
        "ee.Initialize(credentials)"
      ]
    },
    {
      "cell_type": "markdown",
      "source": [
        "# Import layers"
      ],
      "metadata": {
        "id": "zuko6gKJcZZz"
      }
    },
    {
      "cell_type": "code",
      "source": [
        "from google.cloud import storage\n",
        "def list_blobs(bucket_name, prefix):\n",
        "    storage_client = storage.Client.from_service_account_json(os.environ.get('GOOGLE_APPLICATION_CREDENTIALS'))\n",
        "\n",
        "    blobs = storage_client.list_blobs(bucket_name, prefix=prefix)\n",
        "    blob_names = []\n",
        "\n",
        "    for blob in blobs:\n",
        "      if blob.name != prefix:\n",
        "        blob_names.append('gs://' + bucket_name + '/' + blob.name)\n",
        "\n",
        "    return blob_names\n",
        "\n",
        "built_blobs = list_blobs('nature-watch-bucket', 'COGS/built/2023/')\n",
        "built = geemap.load_GeoTIFFs(built_blobs).mosaic()\n",
        "\n",
        "crop_blobs = list_blobs('nature-watch-bucket', 'COGS/crop/2019/')\n",
        "crop = geemap.load_GeoTIFFs(crop_blobs).mosaic()\n",
        "\n",
        "fire_blobs = list_blobs('nature-watch-bucket', 'COGS/fire/2022/')\n",
        "fire = geemap.load_GeoTIFFs(fire_blobs).mosaic()\n",
        "\n",
        "mines_features = ee.FeatureCollection(\"projects/sat-io/open-datasets/global-mining/global_mining_polygons\")\n",
        "mines = mines_features.reduceToImage(\n",
        "  properties=['AREA'],\n",
        "  reducer=ee.Reducer.median()\n",
        ").gt(0).selfMask().select(['median'], ['label'])\n",
        "\n",
        "treeloss = ee.Image('UMD/hansen/global_forest_change_2021_v1_9').select('lossyear');\n"
      ],
      "metadata": {
        "id": "DaYKGKY1ca_Y"
      },
      "execution_count": null,
      "outputs": []
    },
    {
      "cell_type": "markdown",
      "source": [
        "# Reproject to 1km2 pixels"
      ],
      "metadata": {
        "id": "AqV5Pc3Al7RG"
      }
    },
    {
      "cell_type": "code",
      "source": [
        "project_proj = fire.projection()\n",
        "\n",
        "\n",
        "built_resampled = built.reproject(project_proj, None, 30).reduceResolution(\n",
        "      reducer = ee.Reducer.sum().unweighted(),\n",
        "      maxPixels=10000\n",
        "      ).reproject(project_proj, None, 1000)"
      ],
      "metadata": {
        "id": "6QWzI2XwloyJ"
      },
      "execution_count": null,
      "outputs": []
    },
    {
      "cell_type": "code",
      "source": [
        "built_resampled.getInfo()"
      ],
      "metadata": {
        "id": "kLMRMKc-ngkO"
      },
      "execution_count": null,
      "outputs": []
    },
    {
      "cell_type": "code",
      "source": [
        "block_list = list(range(1, 26))\n",
        "\n",
        "blocks = []\n",
        "with open(\"/content/drive/MyDrive/data/blocks.geojson\") as f:\n",
        "    json_data = json.load(f)\n",
        "    for block_id in block_list:\n",
        "        for feature in json_data['features']:\n",
        "            if feature['properties']['id'] == block_id:\n",
        "                feature['properties']['style'] = {}\n",
        "                blocks.append(feature)\n",
        "\n",
        "ee_blocks = [geemap.geojson_to_ee(block) for block in blocks]"
      ],
      "metadata": {
        "id": "taEK7acG0wnS"
      },
      "execution_count": null,
      "outputs": []
    },
    {
      "cell_type": "markdown",
      "source": [
        "# Export"
      ],
      "metadata": {
        "id": "lLMVqoSsW-G3"
      }
    },
    {
      "cell_type": "code",
      "source": [
        "# Loop through blocks and export\n",
        "for id, block in enumerate(ee_blocks):\n",
        "  if id != 13:\n",
        "    image_name = 'built2023_' + str(id)\n",
        "    fileNamePrefix = 'COGS/built/2023/' + image_name\n",
        "\n",
        "\n",
        "    exportConfig = {\n",
        "        'image': built,\n",
        "        'description': image_name,\n",
        "        'bucket': 'nature-watch-bucket',\n",
        "        'fileNamePrefix': fileNamePrefix,\n",
        "        'scale': 30,\n",
        "        'maxPixels': 3867395000,\n",
        "        'region': block,\n",
        "        'fileFormat': 'GeoTIFF',\n",
        "        'formatOptions': {'cloudOptimized': True}\n",
        "    }\n",
        "\n",
        "    task = ee.batch.Export.image.toCloudStorage(**exportConfig)\n",
        "    task.start()"
      ],
      "metadata": {
        "id": "l9NiX3Y9KBCr"
      },
      "execution_count": null,
      "outputs": []
    },
    {
      "cell_type": "code",
      "source": [
        "# Or just export one block\n",
        "id = 19\n",
        "block = ee_blocks[id]\n",
        "\n",
        "\n",
        "image_name = 'built2023_' + str(id)\n",
        "fileNamePrefix = 'COGS/built/2023/' + image_name\n",
        "\n",
        "\n",
        "exportConfig = {\n",
        "    'image': built,\n",
        "    'description': image_name,\n",
        "    'bucket': 'nature-watch-bucket',\n",
        "    'fileNamePrefix': fileNamePrefix,\n",
        "    'scale': 30,\n",
        "    'maxPixels': 3867395000,\n",
        "    'region': block,\n",
        "    'fileFormat': 'GeoTIFF',\n",
        "    'formatOptions': {'cloudOptimized': True}\n",
        "}\n",
        "\n",
        "task = ee.batch.Export.image.toCloudStorage(**exportConfig)\n",
        "task.start()"
      ],
      "metadata": {
        "id": "jUzSiGBeu1n8"
      },
      "execution_count": null,
      "outputs": []
    },
    {
      "cell_type": "code",
      "source": [
        "ee.data.listOperations()"
      ],
      "metadata": {
        "id": "MiPYktsRLXBX"
      },
      "execution_count": null,
      "outputs": []
    },
    {
      "cell_type": "code",
      "source": [],
      "metadata": {
        "id": "-TMiqz1ciQPI"
      },
      "execution_count": null,
      "outputs": []
    },
    {
      "cell_type": "code",
      "source": [
        "Map = geemap.Map()\n",
        "Map.add_basemap('SATELLITE')\n",
        "Map.addLayer(built_resampled, {}, 'built_resampled')\n",
        "\n",
        "Map.setCenter(31.47, -24.98, 12)\n",
        "Map"
      ],
      "metadata": {
        "id": "ULZ-JLZ50GnC"
      },
      "execution_count": null,
      "outputs": []
    }
  ],
  "metadata": {
    "colab": {
      "provenance": [],
      "authorship_tag": "ABX9TyMNve9J1v+CYRsCVy+uBBTe"
    },
    "kernelspec": {
      "display_name": "Python 3",
      "name": "python3"
    },
    "language_info": {
      "name": "python"
    }
  },
  "nbformat": 4,
  "nbformat_minor": 0
}