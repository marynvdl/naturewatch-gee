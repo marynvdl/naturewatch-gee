{
  "cells": [
    {
      "cell_type": "markdown",
      "source": [
        "# Summary\n",
        "Here, we combine all impact layers to create a composite human impact layers."
      ],
      "metadata": {
        "id": "PNr6n2d-Xt2a"
      }
    },
    {
      "cell_type": "markdown",
      "metadata": {
        "id": "z32MNb4_xsB7"
      },
      "source": [
        "# Setting up the environment"
      ]
    },
    {
      "cell_type": "code",
      "execution_count": null,
      "metadata": {
        "id": "xX91gkFHtj-5"
      },
      "outputs": [],
      "source": [
        "# Import and/or install libraries\n",
        "import subprocess, os, gcsfs, json\n",
        "\n",
        "try:\n",
        "    import geemap, ee\n",
        "except ImportError:\n",
        "    subprocess.check_call([\"python\", '-m', 'pip', 'install', '-U', 'geemap'])\n",
        "    import geemap, ee\n"
      ]
    },
    {
      "cell_type": "code",
      "execution_count": null,
      "metadata": {
        "id": "gd4amEOkxAJ1"
      },
      "outputs": [],
      "source": [
        "# Connect to Google Drive to access files\n",
        "\n",
        "from google.colab import drive\n",
        "drive.mount('/content/drive')"
      ]
    },
    {
      "cell_type": "code",
      "execution_count": null,
      "metadata": {
        "id": "QEtv-EFnvqgQ"
      },
      "outputs": [],
      "source": [
        "# Connect to Google Earth Engine if neccessary\n",
        "\n",
        "service_account = os.environ.get('GOOGLE_SERVICE_ACCOUNT')\n",
        "credentials = ee.ServiceAccountCredentials(service_account, os.environ.get('GOOGLE_APPLICATION_CREDENTIALS'))\n",
        "ee.Initialize(credentials)"
      ]
    },
    {
      "cell_type": "markdown",
      "source": [
        "# Import layers"
      ],
      "metadata": {
        "id": "zuko6gKJcZZz"
      }
    },
    {
      "cell_type": "code",
      "source": [
        "from google.cloud import storage\n",
        "def list_blobs(bucket_name, prefix):\n",
        "    storage_client = storage.Client.from_service_account_json(os.environ.get('GOOGLE_APPLICATION_CREDENTIALS'))\n",
        "\n",
        "    blobs = storage_client.list_blobs(bucket_name, prefix=prefix)\n",
        "    blob_names = []\n",
        "\n",
        "    for blob in blobs:\n",
        "      if blob.name != prefix:\n",
        "        blob_names.append('gs://' + bucket_name + '/' + blob.name)\n",
        "\n",
        "    return blob_names\n",
        "\n",
        "built_blobs = list_blobs('nature-watch-bucket', 'COGS/built/2023/')\n",
        "built_images = geemap.load_GeoTIFFs(built_blobs)\n",
        "built_projection =  ee.Image(built_images.first()).projection()\n",
        "built = built_images.mosaic().setDefaultProjection(built_projection)\n",
        "\n",
        "crop_blobs = list_blobs('nature-watch-bucket', 'COGS/crop/2019/')\n",
        "crop_images = geemap.load_GeoTIFFs(crop_blobs)\n",
        "crop_projection =  ee.Image(crop_images.first()).projection()\n",
        "crop = crop_images.mosaic().setDefaultProjection(crop_projection)\n",
        "\n",
        "fire_blobs = list_blobs('nature-watch-bucket', 'COGS/fire/2022/')\n",
        "fire_images = geemap.load_GeoTIFFs(fire_blobs)\n",
        "fire_projection =  ee.Image(fire_images.first()).projection()\n",
        "fire = fire_images.mosaic().setDefaultProjection(fire_projection)\n",
        "\n",
        "mines_features = ee.FeatureCollection(\"projects/sat-io/open-datasets/global-mining/global_mining_polygons\")\n",
        "mines = mines_features.reduceToImage(\n",
        "  properties=['AREA'],\n",
        "  reducer=ee.Reducer.first()\n",
        ").gt(0).selfMask().select(['first']).unmask(0)\n",
        "\n",
        "treeloss = ee.Image(\"UMD/hansen/global_forest_change_2022_v1_10\").select('lossyear').unmask(0).gt(0).selfMask()\n"
      ],
      "metadata": {
        "id": "DaYKGKY1ca_Y"
      },
      "execution_count": null,
      "outputs": []
    },
    {
      "cell_type": "markdown",
      "source": [
        "# Reproject to 1km2 pixels"
      ],
      "metadata": {
        "id": "AqV5Pc3Al7RG"
      }
    },
    {
      "cell_type": "code",
      "source": [
        "project_proj = built.projection()\n",
        "\n",
        "built_resampled = built.reduceResolution(\n",
        "      reducer = ee.Reducer.sum().unweighted(),\n",
        "      maxPixels=1200 # slightly more than 1111\n",
        "      ).reproject(project_proj, None, 1000)\n",
        "\n",
        "crop_resampled = crop.reduceResolution(\n",
        "      reducer = ee.Reducer.sum().unweighted(),\n",
        "      maxPixels=1200 # slightly more than 1111\n",
        "      ).reproject(project_proj, None, 1000)\n",
        "\n",
        "treeloss_resampled = treeloss.reduceResolution(\n",
        "      reducer = ee.Reducer.sum().unweighted(),\n",
        "      maxPixels=1400 # slightly more than 1045\n",
        "      ).reproject(project_proj, None, 1000)\n",
        "\n",
        "fire_resampled = fire.reduceResolution(\n",
        "      reducer = ee.Reducer.max(),\n",
        "      maxPixels=1400 # slightly more than 1045\n",
        "      ).reproject(project_proj, None, 1000)\n",
        "\n",
        "mines_resampled = mines.setDefaultProjection(built_projection).reduceResolution(\n",
        "      reducer = ee.Reducer.sum().unweighted(),\n",
        "      maxPixels=1200 # slightly more than 1045\n",
        "      ).reproject(project_proj, None, 1000)\n",
        "\n"
      ],
      "metadata": {
        "id": "6QWzI2XwloyJ"
      },
      "execution_count": null,
      "outputs": []
    },
    {
      "cell_type": "code",
      "source": [
        "print(mines_resampled.getInfo())"
      ],
      "metadata": {
        "id": "9AE3rnU3fJxs"
      },
      "execution_count": null,
      "outputs": []
    },
    {
      "cell_type": "markdown",
      "source": [
        "# Create composite"
      ],
      "metadata": {
        "id": "lhrffXlFRZEn"
      }
    },
    {
      "cell_type": "markdown",
      "source": [
        "## Normalise the layers"
      ],
      "metadata": {
        "id": "sVnrmwrmPns-"
      }
    },
    {
      "cell_type": "code",
      "source": [
        "## Filter out noise\n",
        "built_selected = built_resampled.updateMask(built_resampled.gt(50)).unmask(0)\n",
        "crop_selected = crop_resampled.updateMask(crop_resampled.gt(50)).unmask(0)\n",
        "treeloss_selected = treeloss_resampled.updateMask(treeloss_resampled.gt(100)).unmask(0)\n",
        "fire_selected = fire_resampled.updateMask(fire_resampled.gt(8)).unmask(0)\n",
        "mines_selected = mines_resampled.updateMask(mines_resampled.gt(50)).unmask(0)"
      ],
      "metadata": {
        "id": "6Y5AYHmCRbGO"
      },
      "execution_count": null,
      "outputs": []
    },
    {
      "cell_type": "code",
      "source": [
        "# Normalize an image with known min and max.\n",
        "def normalize_image(image, min_value, max_value):\n",
        "    return image.subtract(min_value).divide(max_value - min_value)\n",
        "\n",
        "# Apply the normalization function to each resampled image.\n",
        "built_normalized = normalize_image(built_selected, 49, 1111)\n",
        "crop_normalized = normalize_image(crop_selected, 49, 1111)\n",
        "treeloss_normalized = normalize_image(treeloss_selected, 99, 1045)\n",
        "fire_normalized = normalize_image(fire_selected, 7, 26)\n",
        "mines_normalized = normalize_image(mines_selected, 49, 1111)\n"
      ],
      "metadata": {
        "id": "4gN620ycPnXa"
      },
      "execution_count": null,
      "outputs": []
    },
    {
      "cell_type": "code",
      "source": [
        "## Create composite\n",
        "# Define the weights\n",
        "built_weight = 1\n",
        "crop_weight = 0.5\n",
        "treeloss_weight = 0.5\n",
        "intense_fire_weight = 1\n",
        "mine_weight = 1\n",
        "\n",
        "\n",
        "# Multiply each image by its weight\n",
        "weighted_built = built_normalized.multiply(built_weight)\n",
        "weighted_crop = crop_normalized.multiply(crop_weight)\n",
        "weighted_treeloss = treeloss_normalized.multiply(treeloss_weight)\n",
        "weighted_fire = fire_normalized.multiply(intense_fire_weight)\n",
        "weighted_mine = mines_normalized.multiply(mine_weight)\n",
        "\n",
        "# Create an ImageCollection from the weighted images\n",
        "weighted_collection = ee.ImageCollection([\n",
        "    weighted_built.rename('value'),\n",
        "    weighted_crop.rename('value'),\n",
        "    weighted_treeloss.rename('value'),\n",
        "    weighted_fire.rename('value'),\n",
        "    weighted_mine.rename('value')\n",
        "])\n",
        "\n",
        "# Take the maximum value for each pixel across the images\n",
        "max_value_image = weighted_collection.max()\n"
      ],
      "metadata": {
        "id": "zu_hOczNdOQG"
      },
      "execution_count": null,
      "outputs": []
    },
    {
      "cell_type": "code",
      "source": [
        "print(max_value_image.bandNames().getInfo())"
      ],
      "metadata": {
        "id": "XWP2qlkkYnZS"
      },
      "execution_count": null,
      "outputs": []
    },
    {
      "cell_type": "markdown",
      "source": [
        "# Export"
      ],
      "metadata": {
        "id": "lLMVqoSsW-G3"
      }
    },
    {
      "cell_type": "code",
      "source": [
        "block_list = list(range(1, 26))\n",
        "\n",
        "blocks = []\n",
        "with open(\"/content/drive/MyDrive/data/blocks.geojson\") as f:\n",
        "    json_data = json.load(f)\n",
        "    for block_id in block_list:\n",
        "        for feature in json_data['features']:\n",
        "            if feature['properties']['id'] == block_id:\n",
        "                feature['properties']['style'] = {}\n",
        "                blocks.append(feature)\n",
        "\n",
        "ee_blocks = [geemap.geojson_to_ee(block) for block in blocks]"
      ],
      "metadata": {
        "id": "taEK7acG0wnS"
      },
      "execution_count": null,
      "outputs": []
    },
    {
      "cell_type": "code",
      "source": [
        "# Loop through blocks and export\n",
        "for id, block in enumerate(ee_blocks):\n",
        "  if id != 19:\n",
        "    image_name = 'all2023_' + str(id)\n",
        "    fileNamePrefix = 'COGS/all/2023/' + image_name\n",
        "\n",
        "\n",
        "    exportConfig = {\n",
        "        'image': max_value_image,\n",
        "        'description': image_name,\n",
        "        'bucket': 'nature-watch-bucket',\n",
        "        'fileNamePrefix': fileNamePrefix,\n",
        "        'scale': 1000,\n",
        "        'maxPixels': 3867395000,\n",
        "        'region': block,\n",
        "        'fileFormat': 'GeoTIFF',\n",
        "        'formatOptions': {'cloudOptimized': True}\n",
        "    }\n",
        "\n",
        "    task = ee.batch.Export.image.toCloudStorage(**exportConfig)\n",
        "    task.start()"
      ],
      "metadata": {
        "id": "l9NiX3Y9KBCr"
      },
      "execution_count": null,
      "outputs": []
    },
    {
      "cell_type": "code",
      "source": [
        "# Or just export one block\n",
        "id = 19\n",
        "block = ee_blocks[id]\n",
        "\n",
        "\n",
        "image_name = 'all2023_' + str(id)\n",
        "fileNamePrefix = 'COGS/all/2023/' + image_name\n",
        "\n",
        "\n",
        "exportConfig = {\n",
        "    'image': max_value_image,\n",
        "    'description': image_name,\n",
        "    'bucket': 'nature-watch-bucket',\n",
        "    'fileNamePrefix': fileNamePrefix,\n",
        "    'scale': 1000,\n",
        "    'maxPixels': 3867395000,\n",
        "    'region': block,\n",
        "    'fileFormat': 'GeoTIFF',\n",
        "    'formatOptions': {'cloudOptimized': True}\n",
        "}\n",
        "\n",
        "task = ee.batch.Export.image.toCloudStorage(**exportConfig)\n",
        "task.start()"
      ],
      "metadata": {
        "id": "jUzSiGBeu1n8"
      },
      "execution_count": null,
      "outputs": []
    },
    {
      "cell_type": "code",
      "source": [
        "ee.data.listOperations()"
      ],
      "metadata": {
        "id": "MiPYktsRLXBX"
      },
      "execution_count": null,
      "outputs": []
    },
    {
      "cell_type": "code",
      "source": [],
      "metadata": {
        "id": "-TMiqz1ciQPI"
      },
      "execution_count": null,
      "outputs": []
    },
    {
      "cell_type": "code",
      "source": [
        "Map = geemap.Map()\n",
        "Map.add_basemap('SATELLITE')\n",
        "Map.addLayer(fire_selected.updateMask(fire_selected.gt(0)), {'min':0, 'max': 26, 'palette': ['white', 'red']}, 'fire')\n",
        "Map.addLayer(crop_selected.updateMask(crop_selected.gt(0)), {'min':0, 'max': 1111, 'palette': ['white', 'orange']}, 'crop')\n",
        "Map.addLayer(built_selected.updateMask(built_selected.gt(0)), {'min':0, 'max': 1111, 'palette': ['white', 'black']}, 'built')\n",
        "Map.addLayer(treeloss_selected.updateMask(treeloss_selected.gt(0)), {'min':0, 'max': 1045, 'palette': ['white', 'pink']}, 'treeloss')\n",
        "\n",
        "Map.addLayer(max_value_image.updateMask(max_value_image.gt(0)), {'min':0, 'max': 1, 'palette': ['pink', 'black']}, 'composite')\n",
        "\n",
        "# Map.addLayer(mines_resampled, {'min':0, 'max': 1, 'palette': ['white', 'black']}, 'mines_resampled')\n",
        "# Map.addLayer(mines, {'min':0, 'max': 1, 'palette': ['white', 'black']}, 'mines')\n",
        "\n",
        "Map.setCenter(14.80, 1.15, 10)\n",
        "Map"
      ],
      "metadata": {
        "id": "ULZ-JLZ50GnC"
      },
      "execution_count": null,
      "outputs": []
    }
  ],
  "metadata": {
    "colab": {
      "provenance": [],
      "authorship_tag": "ABX9TyMUx58L8tpoYx5XbMT2m2BD"
    },
    "kernelspec": {
      "display_name": "Python 3",
      "name": "python3"
    },
    "language_info": {
      "name": "python"
    }
  },
  "nbformat": 4,
  "nbformat_minor": 0
}