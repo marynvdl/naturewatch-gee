{
  "cells": [
    {
      "cell_type": "markdown",
      "source": [
        "# Summary\n",
        "We map cropland across Africa.\n",
        "1. Set up environment\n",
        "2. Import AOI\n",
        "3. Create a cloudless Sentinel-2 collection\n",
        "4. Create periods per year\n",
        "\n",
        "### Future\n",
        "-"
      ],
      "metadata": {
        "id": "PNr6n2d-Xt2a"
      }
    },
    {
      "cell_type": "markdown",
      "metadata": {
        "id": "z32MNb4_xsB7"
      },
      "source": [
        "# Set up the environment"
      ]
    },
    {
      "cell_type": "code",
      "execution_count": null,
      "metadata": {
        "id": "xX91gkFHtj-5"
      },
      "outputs": [],
      "source": [
        "# Import and/or install libraries\n",
        "import subprocess, os, gcsfs, json\n",
        "\n",
        "try:\n",
        "    import geemap, ee\n",
        "except ImportError:\n",
        "    subprocess.check_call([\"python\", '-m', 'pip', 'install', '-U', 'geemap'])\n",
        "    import geemap, ee\n"
      ]
    },
    {
      "cell_type": "code",
      "execution_count": null,
      "metadata": {
        "id": "gd4amEOkxAJ1"
      },
      "outputs": [],
      "source": [
        "# Connect to Google Drive to access files\n",
        "\n",
        "from google.colab import drive\n",
        "drive.mount('/content/drive')"
      ]
    },
    {
      "cell_type": "code",
      "execution_count": null,
      "metadata": {
        "id": "QEtv-EFnvqgQ"
      },
      "outputs": [],
      "source": [
        "# Connect to Google Earth Engine if neccessary\n",
        "\n",
        "service_account = os.environ.get('GOOGLE_SERVICE_ACCOUNT')\n",
        "credentials = ee.ServiceAccountCredentials(service_account, os.environ.get('GOOGLE_APPLICATION_CREDENTIALS'))\n",
        "ee.Initialize(credentials)"
      ]
    },
    {
      "cell_type": "markdown",
      "source": [
        "# Import AOI"
      ],
      "metadata": {
        "id": "VoPkpjEcRWOe"
      }
    },
    {
      "cell_type": "code",
      "source": [
        "with open(\"/content/drive/MyDrive/data/cropland/central_aoi.geojson\") as f:\n",
        "    json_data_aoi = json.load(f)\n",
        "\n",
        "aoi = geemap.geojson_to_ee(json_data_aoi)\n",
        "\n",
        "with open(\"/content/drive/MyDrive/data/cropland/cropland_central.geojson\") as f:\n",
        "    json_data_crop_aoi = json.load(f)\n",
        "\n",
        "cropland_aoi = geemap.geojson_to_ee(json_data_crop_aoi)\n"
      ],
      "metadata": {
        "id": "prdzWOx-xP4P"
      },
      "execution_count": null,
      "outputs": []
    },
    {
      "cell_type": "markdown",
      "source": [
        "# Create a cloudless Sentinel-2 collection"
      ],
      "metadata": {
        "id": "5YXDNX0IYk8H"
      }
    },
    {
      "cell_type": "code",
      "source": [
        "CLOUD_FILTER = 80\n",
        "CLD_PRB_THRESH = 50\n",
        "NIR_DRK_THRESH = 0.15\n",
        "CLD_PRJ_DIST = 1\n",
        "BUFFER = 50\n",
        "\n",
        "\n",
        "def get_s2_sr_cld_col(datefilter):\n",
        "    s2_sr_col = (ee.ImageCollection('COPERNICUS/S2_SR')\n",
        "        .filter(datefilter)\n",
        "        .filter(ee.Filter.lte('CLOUDY_PIXEL_PERCENTAGE', CLOUD_FILTER)))\n",
        "\n",
        "    s2_cloudless_col = (ee.ImageCollection('COPERNICUS/S2_CLOUD_PROBABILITY')\n",
        "        .filter(datefilter)\n",
        "        )\n",
        "\n",
        "    return ee.ImageCollection(ee.Join.saveFirst('s2cloudless').apply(**{\n",
        "        'primary': s2_sr_col,\n",
        "        'secondary': s2_cloudless_col,\n",
        "        'condition': ee.Filter.equals(**{\n",
        "            'leftField': 'system:index',\n",
        "            'rightField': 'system:index'\n",
        "        })\n",
        "    }))\n",
        "\n",
        "\n",
        "def add_cloud_bands(img):\n",
        "    cld_prb = ee.Image(img.get('s2cloudless')).select('probability')\n",
        "    is_cloud = cld_prb.gt(CLD_PRB_THRESH).rename('clouds')\n",
        "    return img.addBands(ee.Image([cld_prb, is_cloud]))\n",
        "\n",
        "\n",
        "def add_shadow_bands(img):\n",
        "    # Identify water pixels from the SCL band.\n",
        "    not_water = img.select('SCL').neq(6)\n",
        "\n",
        "    # Identify dark NIR pixels that are not water (potential cloud shadow pixels).\n",
        "    SR_BAND_SCALE = 1e4\n",
        "    dark_pixels = img.select('B8').lt(NIR_DRK_THRESH*SR_BAND_SCALE).multiply(not_water).rename('dark_pixels')\n",
        "\n",
        "    # Determine the direction to project cloud shadow from clouds (assumes UTM projection).\n",
        "    shadow_azimuth = ee.Number(90).subtract(ee.Number(img.get('MEAN_SOLAR_AZIMUTH_ANGLE')));\n",
        "\n",
        "    # Project shadows from clouds for the distance specified by the CLD_PRJ_DIST input.\n",
        "    cld_proj = (img.select('clouds').directionalDistanceTransform(shadow_azimuth, CLD_PRJ_DIST*10)\n",
        "        .reproject(**{'crs': img.select(0).projection(), 'scale': 100})\n",
        "        .select('distance')\n",
        "        .mask()\n",
        "        .rename('cloud_transform'))\n",
        "\n",
        "    # Identify the intersection of dark pixels with cloud shadow projection.\n",
        "    shadows = cld_proj.multiply(dark_pixels).rename('shadows')\n",
        "\n",
        "    # Add dark pixels, cloud projection, and identified shadows as image bands.\n",
        "    return img.addBands(ee.Image([dark_pixels, cld_proj, shadows]))\n",
        "\n",
        "def add_cld_shdw_mask(img):\n",
        "    # Add cloud component bands.\n",
        "    img_cloud = add_cloud_bands(img)\n",
        "\n",
        "    # Add cloud shadow component bands.\n",
        "    img_cloud_shadow = add_shadow_bands(img_cloud)\n",
        "\n",
        "    # Combine cloud and shadow mask, set cloud and shadow as value 1, else 0.\n",
        "    is_cld_shdw = img_cloud_shadow.select('clouds').add(img_cloud_shadow.select('shadows')).gt(0)\n",
        "\n",
        "    # Remove small cloud-shadow patches and dilate remaining pixels by BUFFER input.\n",
        "    # 20 m scale is for speed, and assumes clouds don't require 10 m precision.\n",
        "    is_cld_shdw = (is_cld_shdw.focalMin(2).focalMax(BUFFER*2/20)\n",
        "        .reproject(**{'crs': img.select([0]).projection(), 'scale': 20})\n",
        "        .rename('cloudmask'))\n",
        "\n",
        "    # Add the final cloud-shadow mask to the image.\n",
        "    return img_cloud_shadow.addBands(is_cld_shdw)\n",
        "\n",
        "\n",
        "def apply_cld_shdw_mask(img):\n",
        "    # Subset the cloudmask band and invert it so clouds/shadow are 0, else 1.\n",
        "    not_cld_shdw = img.select('cloudmask').Not()\n",
        "\n",
        "    # Subset reflectance bands and update their masks, return the result.\n",
        "    return img.select('B.*').updateMask(not_cld_shdw)\n",
        "\n",
        "\n",
        "date_filter = ee.Filter.date(ee.Date('2015-12-31'), ee.Date('2023-01-01'))\n",
        "\n",
        "sentinel = get_s2_sr_cld_col(date_filter).map(add_cld_shdw_mask).map(apply_cld_shdw_mask)\n",
        "\n",
        "sentinel_vis = {\n",
        "  'min': 0.0,\n",
        "  'max': 3000,\n",
        "  'bands': ['B4', 'B3', 'B2']\n",
        "}\n",
        "\n",
        "sentinel_clip = sentinel.filterBounds(aoi)"
      ],
      "metadata": {
        "id": "19QSKzLnYn7b"
      },
      "execution_count": null,
      "outputs": []
    },
    {
      "cell_type": "markdown",
      "source": [
        "# Create periods per year"
      ],
      "metadata": {
        "id": "bL2ZKi8BdWsq"
      }
    },
    {
      "cell_type": "code",
      "source": [
        "bands = ['NDVI', 'B5', 'B6', 'B7', 'B8A']\n",
        "\n",
        "# Calculate NDVI and clip to aoi\n",
        "def calculate_ndvi(img):\n",
        "    ndvi = img.normalizedDifference(['B8', 'B4']).rename('NDVI').clip(aoi)\n",
        "    return img.addBands(ndvi)\n",
        "\n",
        "sentinel_ndvi = sentinel_clip.map(calculate_ndvi).select(bands)\n",
        "\n"
      ],
      "metadata": {
        "id": "IqcCg24Ykvef"
      },
      "execution_count": null,
      "outputs": []
    },
    {
      "cell_type": "code",
      "source": [
        "# Function to create median periods\n",
        "\n",
        "def compute_yearly_median(year_start_date, year_end_date, days):\n",
        "    num_periods = year_end_date.difference(year_start_date, 'day').divide(days).floor()\n",
        "    date_sequence = ee.List.sequence(0, num_periods.subtract(1))\n",
        "\n",
        "    def compute_date(n):\n",
        "        n = ee.Number(n)\n",
        "        return year_start_date.advance(n.multiply(days), 'day')\n",
        "\n",
        "    dates_list = date_sequence.map(compute_date)\n",
        "\n",
        "    def create_medians(image_index):\n",
        "        image_index = ee.List(image_index)\n",
        "        this_date = ee.Date(image_index.get(0))\n",
        "        period = ee.Number(image_index.get(1))\n",
        "        median_img = sentinel_ndvi.filterDate(this_date, this_date.advance(days, 'day')).median()\n",
        "        return median_img.set('period', period)\n",
        "\n",
        "    return ee.ImageCollection(ee.List(dates_list.zip(date_sequence)).map(create_medians))\n",
        "\n"
      ],
      "metadata": {
        "id": "Dsbvo8_pUQIl"
      },
      "execution_count": null,
      "outputs": []
    },
    {
      "cell_type": "code",
      "source": [
        "def add_period_property(img_collection):\n",
        "  num_images = img_collection.size()\n",
        "  sequence = ee.List.sequence(0, num_images.subtract(1))\n",
        "\n",
        "  def add_counter(image_index):\n",
        "      image_index = ee.List(image_index)\n",
        "      image = ee.Image(image_index.get(0))\n",
        "      counter = ee.Number(image_index.get(1))\n",
        "      return image.set('counter', counter)\n",
        "\n",
        "  new_image_collection = ee.ImageCollection(ee.List(img_collection.zip(sequence)).map(add_counter))\n",
        "  return new_image_collection"
      ],
      "metadata": {
        "id": "rzM3es63odd2"
      },
      "execution_count": null,
      "outputs": []
    },
    {
      "cell_type": "code",
      "source": [
        "# Compute the periods\n",
        "days = 60\n",
        "\n",
        "y_start = ee.Date('2022-01-01')\n",
        "y_end = ee.Date('2023-01-01')\n",
        "y1_start = y_start.advance(-1, 'year')\n",
        "y1_end = y_end.advance(-1, 'year')\n",
        "y2_start = y_start.advance(-2, 'year')\n",
        "y2_end = y_end.advance(-2, 'year')\n",
        "\n",
        "y_periods = compute_yearly_median(y_start, y_end, days)\n",
        "y1_periods = compute_yearly_median(y1_start, y1_end, days)\n",
        "y2_periods = compute_yearly_median(y2_start, y2_end, days)"
      ],
      "metadata": {
        "id": "SPfd4j3yUlht"
      },
      "execution_count": null,
      "outputs": []
    },
    {
      "cell_type": "code",
      "source": [
        "# def replace_masked_with_previous_year(feature):\n",
        "#     primary = ee.Image(feature.get('primary'))\n",
        "#     secondary = ee.Image(feature.get('secondary'))\n",
        "#     updated_image = primary.where(primary.mask().Not(), secondary)\n",
        "\n",
        "#     return updated_image\n",
        "\n",
        "\n",
        "def replace_masked_with_previous_year(feature):\n",
        "    primary = ee.Image(feature.get('primary'))\n",
        "    secondary = ee.Image(feature.get('secondary'))\n",
        "\n",
        "    # Update the mask of the secondary image to be the inverse of the primary image mask\n",
        "    updated_secondary = secondary.updateMask(primary.mask().Not())\n",
        "\n",
        "    # Combine the primary and updated_secondary images\n",
        "    updated_image = primary.add(updated_secondary)\n",
        "\n",
        "    return updated_image\n"
      ],
      "metadata": {
        "id": "e0QhEe5rly75"
      },
      "execution_count": null,
      "outputs": []
    },
    {
      "cell_type": "code",
      "source": [
        "def join_images(feature):\n",
        "    primary = ee.Image(feature.get('primary'))\n",
        "    secondary = ee.Image(feature.get('secondary'))\n",
        "    combined_image = ee.Image.cat(primary, secondary)\n",
        "\n",
        "    return combined_image\n",
        "\n",
        "\n",
        "# YEAR 1: Join images\n",
        "filter_eq = ee.Filter.equals(leftField='period', rightField='period')\n",
        "inner_join = ee.Join.inner()\n",
        "inner_joined_1 = inner_join.apply(y_periods, y1_periods, filter_eq)\n",
        "joined_images_1 = ee.ImageCollection(inner_joined_1.map(join_images))\n",
        "\n",
        "# YEAR 1: Map the function over the image collection\n",
        "backed_filled_1 = inner_joined_1.map(replace_masked_with_previous_year)\n",
        "\n",
        "\n",
        "# YEAR 2: Join images\n",
        "filter_eq = ee.Filter.equals(leftField='period', rightField='period')\n",
        "inner_join = ee.Join.inner()\n",
        "inner_joined_2 = inner_join.apply(backed_filled_1, y2_periods, filter_eq)\n",
        "joined_images_2 = ee.ImageCollection(inner_joined_2.map(join_images))\n",
        "\n",
        "# YEAR 2: Map the function over the image collection\n",
        "backed_filled_2 = inner_joined_2.map(replace_masked_with_previous_year)"
      ],
      "metadata": {
        "id": "Y3Mj9Z9HcWfV"
      },
      "execution_count": null,
      "outputs": []
    },
    {
      "cell_type": "code",
      "source": [
        "feat = inner_joined_1.first()\n",
        "combined = replace_masked_with_previous_year(feat)\n",
        "print(combined.getInfo())"
      ],
      "metadata": {
        "id": "HvE9VFtpzXuE"
      },
      "execution_count": null,
      "outputs": []
    },
    {
      "cell_type": "code",
      "source": [
        "time_img_y = y_periods.select('NDVI').toBands().clip(aoi)\n",
        "time_img_y1 = y1_periods.select('NDVI').toBands().clip(aoi)\n",
        "time_img_filled = backed_filled_1.select('NDVI').toBands().clip(aoi).rename(time_img_y.bandNames())\n"
      ],
      "metadata": {
        "id": "lgoD9h5Zjrqj"
      },
      "execution_count": null,
      "outputs": []
    },
    {
      "cell_type": "markdown",
      "source": [
        "# Import AOI"
      ],
      "metadata": {
        "id": "aykk5INNw4ZY"
      }
    },
    {
      "cell_type": "code",
      "source": [
        "bands = ['0_NDVI', '1_NDVI', '2_NDVI', '3_NDVI', '4_NDVI', '5_NDVI']\n",
        "image_aoi = time_img_y.select(bands)"
      ],
      "metadata": {
        "id": "OADzVUKu0tuc"
      },
      "execution_count": null,
      "outputs": []
    },
    {
      "cell_type": "markdown",
      "source": [
        "# Add metrics"
      ],
      "metadata": {
        "id": "2AmiFZvKLj0p"
      }
    },
    {
      "cell_type": "code",
      "source": [
        "# sentinel_bands = ['B5', 'B6', 'B7', 'B8A'] # red edge\n",
        "\n",
        "# Red-edge slope\n",
        "def calc_slope(img):\n",
        "    slope = img.select('B7').subtract(img.select('B5')).divide(ee.Number(835.1-703.9)).rename('slope')\n",
        "    return img.addBands(slope)\n",
        "\n",
        "sentinel_slope = backed_filled.map(calc_slope)\n",
        "sentinel_bands = ['slope'] # red edge\n",
        "red_edge_img = sentinel_slope.select(sentinel_bands).median()\n",
        "\n",
        "\n",
        "# Forest height\n",
        "height = ee.ImageCollection('users/potapovpeter/GEDI_V27').median().select('b1').rename('height')\n"
      ],
      "metadata": {
        "id": "eA9sVJOyQA-W"
      },
      "execution_count": null,
      "outputs": []
    },
    {
      "cell_type": "code",
      "source": [
        "sentinel_max = backed_filled.select('NDVI').max().rename('max')\n",
        "sentinel_min = backed_filled.select('NDVI').min().rename('min')\n",
        "\n",
        "image_bands = image_aoi.addBands(sentinel_max).addBands(sentinel_min).addBands(red_edge_img)"
      ],
      "metadata": {
        "id": "TGJbsbIVLmQO"
      },
      "execution_count": null,
      "outputs": []
    },
    {
      "cell_type": "markdown",
      "source": [
        "# Sample points"
      ],
      "metadata": {
        "id": "mBNas1aOyLzp"
      }
    },
    {
      "cell_type": "code",
      "source": [
        "# Randomly split the data into 70% training and 30% validation\n",
        "cropland_split = cropland_aoi.randomColumn(seed=5)\n",
        "training = cropland_split.filter(ee.Filter.lt('random', 0.7))\n",
        "validation = cropland_split.filter(ee.Filter.gte('random', 0.7))\n",
        "\n",
        "# Sample the pixel values\n",
        "training_sampled = image_bands.sampleRegions(collection=training, properties=['Class'], scale=30, tileScale=4)\n",
        "validation_sampled = image_bands.sampleRegions(collection=validation, properties=['Class'], scale=30, tileScale=4)"
      ],
      "metadata": {
        "id": "TaRMSR7OyN60"
      },
      "execution_count": null,
      "outputs": []
    },
    {
      "cell_type": "code",
      "source": [
        "# Classify\n",
        "classifier = ee.Classifier.smileRandomForest(10).train(features=training_sampled, classProperty='Class', inputProperties=image_bands.bandNames())\n",
        "classified = image_bands.classify(classifier)\n",
        "\n",
        "validated = validation_sampled.classify(classifier)\n",
        "confusionMatrix = validated.errorMatrix('Class', 'classification')\n",
        "\n",
        "overallAccuracy = confusionMatrix.accuracy()\n",
        "\n",
        "producersAccuracy = confusionMatrix.producersAccuracy() # Sensitivity (recall)\n",
        "consumersAccuracy = confusionMatrix.consumersAccuracy() # Specificity (precision)\n",
        "\n",
        "# confusionMatrix.getInfo()"
      ],
      "metadata": {
        "id": "JqFNdXoKym1r"
      },
      "execution_count": null,
      "outputs": []
    },
    {
      "cell_type": "code",
      "source": [
        "print('Accuracy')\n",
        "print(overallAccuracy.getInfo())\n",
        "\n",
        "# print('Sensitivity')\n",
        "# print(producersAccuracy.getInfo())\n",
        "\n",
        "# print('Specificity')\n",
        "# print(consumersAccuracy.getInfo())"
      ],
      "metadata": {
        "id": "orvh4ANU3cUr"
      },
      "execution_count": null,
      "outputs": []
    },
    {
      "cell_type": "code",
      "source": [
        "cropland = classified.eq(1).selfMask()"
      ],
      "metadata": {
        "id": "ODQbQvIqzUvJ"
      },
      "execution_count": null,
      "outputs": []
    },
    {
      "cell_type": "markdown",
      "source": [
        "# Map"
      ],
      "metadata": {
        "id": "PUgZ1kJxdaJh"
      }
    },
    {
      "cell_type": "code",
      "source": [
        "primary = ee.Image(feat.get('primary'))\n",
        "secondary = ee.Image(feat.get('secondary'))\n",
        "clouds = primary.mask().Not()\n",
        "input = primary.unmask(-9999)"
      ],
      "metadata": {
        "id": "zMeQy3TGhtYg"
      },
      "execution_count": null,
      "outputs": []
    },
    {
      "cell_type": "code",
      "source": [
        "ndvi_vis = {'min': -1, 'max': 1, 'palette': ['blue', 'white', 'green']}\n",
        "\n",
        "Map = geemap.Map()\n",
        "Map.add_basemap('SATELLITE')\n",
        "# Map.addLayer(clouds, {}, 'clouds')\n",
        "# Map.addLayer(input, {}, 'input')\n",
        "\n",
        "# Map.addLayer(time_img_y.select('3_NDVI'), ndvi_vis, 'y')\n",
        "# Map.addLayer(time_img_filled.select('3_NDVI'), ndvi_vis, 'filled_1')\n",
        "Map.addLayer(primary.select('NDVI'), ndvi_vis, 'y')\n",
        "Map.addLayer(secondary.select('NDVI'), ndvi_vis, 'y1')\n",
        "Map.addLayer(combined.select('NDVI'), ndvi_vis, '0_NDVI_new')\n",
        "\n",
        "Map.setCenter(10.752, 0.698, 12)\n",
        "Map"
      ],
      "metadata": {
        "id": "ULZ-JLZ50GnC"
      },
      "execution_count": null,
      "outputs": []
    }
  ],
  "metadata": {
    "colab": {
      "provenance": [],
      "collapsed_sections": [
        "VoPkpjEcRWOe",
        "5YXDNX0IYk8H"
      ],
      "authorship_tag": "ABX9TyPFHRk4OUE7gyxiscI3+G2+"
    },
    "kernelspec": {
      "display_name": "Python 3",
      "name": "python3"
    },
    "language_info": {
      "name": "python"
    }
  },
  "nbformat": 4,
  "nbformat_minor": 0
}