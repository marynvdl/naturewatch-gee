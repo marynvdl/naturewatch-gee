{
  "cells": [
    {
      "cell_type": "markdown",
      "source": [
        "# Summary\n",
        "1. We process [Maryland's Global Cropland layer ](https://glad.umd.edu/dataset/croplands)\n",
        "2. We then export the data for 2019 and 2015 to Google Cloud Storage.\n",
        "\n",
        "Access cropland data like so:\n",
        "- 2019 \"users/potapovpeter/Global_cropland_2019\"\n",
        "\n",
        "### Future\n",
        "-"
      ],
      "metadata": {
        "id": "PNr6n2d-Xt2a"
      }
    },
    {
      "cell_type": "markdown",
      "metadata": {
        "id": "z32MNb4_xsB7"
      },
      "source": [
        "# Setting up the environment"
      ]
    },
    {
      "cell_type": "code",
      "execution_count": null,
      "metadata": {
        "id": "xX91gkFHtj-5"
      },
      "outputs": [],
      "source": [
        "# Import and/or install libraries\n",
        "import subprocess, os, gcsfs, json\n",
        "\n",
        "try:\n",
        "    import geemap, ee\n",
        "except ImportError:\n",
        "    subprocess.check_call([\"python\", '-m', 'pip', 'install', '-U', 'geemap'])\n",
        "    import geemap, ee\n"
      ]
    },
    {
      "cell_type": "code",
      "execution_count": null,
      "metadata": {
        "id": "gd4amEOkxAJ1"
      },
      "outputs": [],
      "source": [
        "# Connect to Google Drive to access files\n",
        "\n",
        "from google.colab import drive\n",
        "drive.mount('/content/drive')"
      ]
    },
    {
      "cell_type": "code",
      "execution_count": null,
      "metadata": {
        "id": "QEtv-EFnvqgQ"
      },
      "outputs": [],
      "source": [
        "# Connect to Google Earth Engine if neccessary\n",
        "\n",
        "service_account = os.environ.get('GOOGLE_SERVICE_ACCOUNT')\n",
        "credentials = ee.ServiceAccountCredentials(service_account, os.environ.get('GOOGLE_APPLICATION_CREDENTIALS'))\n",
        "ee.Initialize(credentials)"
      ]
    },
    {
      "cell_type": "code",
      "source": [
        "block_list = list(range(1, 26))\n",
        "\n",
        "blocks = []\n",
        "with open(\"/content/drive/MyDrive/data/blocks.geojson\") as f:\n",
        "    json_data = json.load(f)\n",
        "    for block_id in block_list:\n",
        "        for feature in json_data['features']:\n",
        "            if feature['properties']['id'] == block_id:\n",
        "                feature['properties']['style'] = {}\n",
        "                blocks.append(feature)\n",
        "\n",
        "ee_blocks = [geemap.geojson_to_ee(block) for block in blocks]"
      ],
      "metadata": {
        "id": "taEK7acG0wnS"
      },
      "execution_count": null,
      "outputs": []
    },
    {
      "cell_type": "code",
      "source": [
        "# Specify year, one of [2003, 2007, 2011, 2015, 2019]\n",
        "year = 2019"
      ],
      "metadata": {
        "id": "DKX06WEH2Hbg"
      },
      "execution_count": null,
      "outputs": []
    },
    {
      "cell_type": "code",
      "source": [
        "# Prepare layers\n",
        "\n",
        "# Import cropland\n",
        "cropland = ee.ImageCollection(\"users/potapovpeter/Global_cropland_\" + str(year)).median().selfMask().toByte()\n",
        "\n"
      ],
      "metadata": {
        "id": "Pbl2s-Rp1dqT"
      },
      "execution_count": null,
      "outputs": []
    },
    {
      "cell_type": "code",
      "source": [
        "# Loop through blocks and export\n",
        "for id, block in enumerate(ee_blocks):\n",
        "\n",
        "  if id != 13:\n",
        "\n",
        "    image_name = 'crop' + str(year) + '_' + str(id)\n",
        "    fileNamePrefix = 'COGS/crop/' + str(year) + '/' + image_name\n",
        "\n",
        "\n",
        "    exportConfig = {\n",
        "        'image': cropland,\n",
        "        'description': image_name,\n",
        "        'bucket': 'nature-watch-bucket',\n",
        "        'fileNamePrefix': fileNamePrefix,\n",
        "        'scale': 30,\n",
        "        'maxPixels': 3147395000,\n",
        "        'region': block,\n",
        "        'fileFormat': 'GeoTIFF',\n",
        "        'formatOptions': {'cloudOptimized': True}\n",
        "    }\n",
        "\n",
        "    task = ee.batch.Export.image.toCloudStorage(**exportConfig)\n",
        "    task.start()"
      ],
      "metadata": {
        "id": "l9NiX3Y9KBCr"
      },
      "execution_count": null,
      "outputs": []
    },
    {
      "cell_type": "code",
      "source": [
        "# Or just export one block\n",
        "id = 13\n",
        "block = ee_blocks[id]\n",
        "\n",
        "image_name = 'crop' + str(year) + '_' + str(id)\n",
        "fileNamePrefix = 'COGS/crop/' + str(year) + '/' + image_name\n",
        "\n",
        "\n",
        "exportConfig = {\n",
        "    'image': cropland,\n",
        "    'description': image_name,\n",
        "    'bucket': 'nature-watch-bucket',\n",
        "    'fileNamePrefix': fileNamePrefix,\n",
        "    'scale': 30,\n",
        "    'maxPixels': 3147395000,\n",
        "    'region': block,\n",
        "    'fileFormat': 'GeoTIFF',\n",
        "    'formatOptions': {'cloudOptimized': True}\n",
        "}\n",
        "\n",
        "task = ee.batch.Export.image.toCloudStorage(**exportConfig)\n",
        "task.start()"
      ],
      "metadata": {
        "id": "jUzSiGBeu1n8"
      },
      "execution_count": null,
      "outputs": []
    },
    {
      "cell_type": "code",
      "source": [
        "ee.data.listOperations()"
      ],
      "metadata": {
        "id": "MiPYktsRLXBX"
      },
      "execution_count": null,
      "outputs": []
    },
    {
      "cell_type": "code",
      "source": [
        "Map = geemap.Map()\n",
        "Map.add_basemap('SATELLITE')\n",
        "Map.addLayer(cropland, {}, 'cropland')\n",
        "\n",
        "Map.setCenter(11.578, 1.600, 12)\n",
        "Map"
      ],
      "metadata": {
        "id": "ULZ-JLZ50GnC"
      },
      "execution_count": null,
      "outputs": []
    }
  ],
  "metadata": {
    "colab": {
      "provenance": [],
      "authorship_tag": "ABX9TyP7mhcbzH8D70LzM4ybvNQx"
    },
    "kernelspec": {
      "display_name": "Python 3",
      "name": "python3"
    },
    "language_info": {
      "name": "python"
    }
  },
  "nbformat": 4,
  "nbformat_minor": 0
}