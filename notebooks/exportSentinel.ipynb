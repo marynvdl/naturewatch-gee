{
  "cells": [
    {
      "cell_type": "markdown",
      "source": [
        "# Summary\n",
        "A script to easily export Sentinel-2 RGB images to Google Cloud\n",
        "\n",
        "### Future\n",
        "-"
      ],
      "metadata": {
        "id": "PNr6n2d-Xt2a"
      }
    },
    {
      "cell_type": "markdown",
      "metadata": {
        "id": "z32MNb4_xsB7"
      },
      "source": [
        "# Set up the environment"
      ]
    },
    {
      "cell_type": "code",
      "execution_count": null,
      "metadata": {
        "id": "xX91gkFHtj-5"
      },
      "outputs": [],
      "source": [
        "# Import and/or install libraries\n",
        "import subprocess, os, gcsfs, json\n",
        "\n",
        "try:\n",
        "    import geemap, ee\n",
        "except ImportError:\n",
        "    subprocess.check_call([\"python\", '-m', 'pip', 'install', '-U', 'geemap'])\n",
        "    import geemap, ee\n"
      ]
    },
    {
      "cell_type": "code",
      "execution_count": null,
      "metadata": {
        "id": "gd4amEOkxAJ1"
      },
      "outputs": [],
      "source": [
        "# Connect to Google Drive to access files\n",
        "\n",
        "from google.colab import drive\n",
        "drive.mount('/content/drive')"
      ]
    },
    {
      "cell_type": "code",
      "execution_count": null,
      "metadata": {
        "id": "QEtv-EFnvqgQ"
      },
      "outputs": [],
      "source": [
        "# Connect to Google Earth Engine if neccessary\n",
        "\n",
        "service_account = os.environ.get('GOOGLE_SERVICE_ACCOUNT')\n",
        "credentials = ee.ServiceAccountCredentials(service_account, os.environ.get('GOOGLE_APPLICATION_CREDENTIALS'))\n",
        "ee.Initialize(credentials)"
      ]
    },
    {
      "cell_type": "markdown",
      "source": [
        "# Import AOI"
      ],
      "metadata": {
        "id": "VoPkpjEcRWOe"
      }
    },
    {
      "cell_type": "code",
      "source": [
        "with open(\"/content/drive/MyDrive/data/cropland/central_sample_aoi.geojson\") as f:\n",
        "    json_data_aoi = json.load(f)\n",
        "\n",
        "aoi = geemap.geojson_to_ee(json_data_aoi)\n",
        "\n",
        "with open(\"/content/drive/MyDrive/data/cropland/central_sample_crop.geojson\") as f:\n",
        "    json_data_crop_aoi = json.load(f)\n",
        "\n",
        "cropland_aoi = geemap.geojson_to_ee(json_data_crop_aoi)\n"
      ],
      "metadata": {
        "id": "prdzWOx-xP4P"
      },
      "execution_count": null,
      "outputs": []
    },
    {
      "cell_type": "code",
      "source": [
        "# Or manually define AOI\n",
        "\n",
        "aoi = ee.Geometry({\n",
        "        \"type\": \"Polygon\",\n",
        "        \"coordinates\": [\n",
        "          [\n",
        "            [\n",
        "              12.589521228449541,\n",
        "              8.187041059692817\n",
        "            ],\n",
        "            [\n",
        "              12.589521228449541,\n",
        "              2.645072840239564\n",
        "            ],\n",
        "            [\n",
        "              32.09550148526759,\n",
        "              2.645072840239564\n",
        "            ],\n",
        "            [\n",
        "              32.09550148526759,\n",
        "              8.187041059692817\n",
        "            ],\n",
        "            [\n",
        "              12.589521228449541,\n",
        "              8.187041059692817\n",
        "            ]\n",
        "          ]\n",
        "        ],\n",
        "      })\n",
        "\n"
      ],
      "metadata": {
        "id": "2dHF3JFwEr3m"
      },
      "execution_count": null,
      "outputs": []
    },
    {
      "cell_type": "markdown",
      "source": [
        "# Create cloudless Sentinel-2 collection"
      ],
      "metadata": {
        "id": "KomcPB8i1c9D"
      }
    },
    {
      "cell_type": "code",
      "source": [
        "CLOUD_FILTER = 80\n",
        "CLD_PRB_THRESH = 50\n",
        "NIR_DRK_THRESH = 0.15\n",
        "CLD_PRJ_DIST = 1\n",
        "BUFFER = 50\n",
        "\n",
        "\n",
        "def get_s2_sr_cld_col(datefilter):\n",
        "    s2_sr_col = (ee.ImageCollection('COPERNICUS/S2_SR')\n",
        "        .filter(datefilter)\n",
        "        .filter(ee.Filter.lte('CLOUDY_PIXEL_PERCENTAGE', CLOUD_FILTER)))\n",
        "\n",
        "    s2_cloudless_col = (ee.ImageCollection('COPERNICUS/S2_CLOUD_PROBABILITY')\n",
        "        .filter(datefilter)\n",
        "        )\n",
        "\n",
        "    return ee.ImageCollection(ee.Join.saveFirst('s2cloudless').apply(**{\n",
        "        'primary': s2_sr_col,\n",
        "        'secondary': s2_cloudless_col,\n",
        "        'condition': ee.Filter.equals(**{\n",
        "            'leftField': 'system:index',\n",
        "            'rightField': 'system:index'\n",
        "        })\n",
        "    }))\n",
        "\n",
        "\n",
        "def add_cloud_bands(img):\n",
        "    cld_prb = ee.Image(img.get('s2cloudless')).select('probability')\n",
        "    is_cloud = cld_prb.gt(CLD_PRB_THRESH).rename('clouds')\n",
        "    return img.addBands(ee.Image([cld_prb, is_cloud]))\n",
        "\n",
        "\n",
        "def add_shadow_bands(img):\n",
        "    # Identify water pixels from the SCL band.\n",
        "    not_water = img.select('SCL').neq(6)\n",
        "\n",
        "    # Identify dark NIR pixels that are not water (potential cloud shadow pixels).\n",
        "    SR_BAND_SCALE = 1e4\n",
        "    dark_pixels = img.select('B8').lt(NIR_DRK_THRESH*SR_BAND_SCALE).multiply(not_water).rename('dark_pixels')\n",
        "\n",
        "    # Determine the direction to project cloud shadow from clouds (assumes UTM projection).\n",
        "    shadow_azimuth = ee.Number(90).subtract(ee.Number(img.get('MEAN_SOLAR_AZIMUTH_ANGLE')));\n",
        "\n",
        "    # Project shadows from clouds for the distance specified by the CLD_PRJ_DIST input.\n",
        "    cld_proj = (img.select('clouds').directionalDistanceTransform(shadow_azimuth, CLD_PRJ_DIST*10)\n",
        "        .reproject(**{'crs': img.select(0).projection(), 'scale': 100})\n",
        "        .select('distance')\n",
        "        .mask()\n",
        "        .rename('cloud_transform'))\n",
        "\n",
        "    # Identify the intersection of dark pixels with cloud shadow projection.\n",
        "    shadows = cld_proj.multiply(dark_pixels).rename('shadows')\n",
        "\n",
        "    # Add dark pixels, cloud projection, and identified shadows as image bands.\n",
        "    return img.addBands(ee.Image([dark_pixels, cld_proj, shadows]))\n",
        "\n",
        "def add_cld_shdw_mask(img):\n",
        "    # Add cloud component bands.\n",
        "    img_cloud = add_cloud_bands(img)\n",
        "\n",
        "    # Add cloud shadow component bands.\n",
        "    img_cloud_shadow = add_shadow_bands(img_cloud)\n",
        "\n",
        "    # Combine cloud and shadow mask, set cloud and shadow as value 1, else 0.\n",
        "    is_cld_shdw = img_cloud_shadow.select('clouds').add(img_cloud_shadow.select('shadows')).gt(0)\n",
        "\n",
        "    # Remove small cloud-shadow patches and dilate remaining pixels by BUFFER input.\n",
        "    # 20 m scale is for speed, and assumes clouds don't require 10 m precision.\n",
        "    is_cld_shdw = (is_cld_shdw.focalMin(2).focalMax(BUFFER*2/20)\n",
        "        .reproject(**{'crs': img.select([0]).projection(), 'scale': 20})\n",
        "        .rename('cloudmask'))\n",
        "\n",
        "    # Add the final cloud-shadow mask to the image.\n",
        "    return img_cloud_shadow.addBands(is_cld_shdw)\n",
        "\n",
        "\n",
        "def apply_cld_shdw_mask(img):\n",
        "    # Subset the cloudmask band and invert it so clouds/shadow are 0, else 1.\n",
        "    not_cld_shdw = img.select('cloudmask').Not()\n",
        "\n",
        "    # Subset reflectance bands and update their masks, return the result.\n",
        "    return img.select('B.*').updateMask(not_cld_shdw)\n",
        "\n",
        "\n",
        "date_filter = ee.Filter.date(ee.Date('2015-12-31'), ee.Date('2023-01-01'))\n",
        "\n",
        "sentinel = get_s2_sr_cld_col(date_filter).map(add_cld_shdw_mask).map(apply_cld_shdw_mask)\n",
        "\n",
        "sentinel_vis = {\n",
        "  'min': 0.0,\n",
        "  'max': 3000,\n",
        "  'bands': ['B4', 'B3', 'B2']\n",
        "}\n",
        "\n",
        "sentinel_clip = sentinel.filterBounds(aoi)"
      ],
      "metadata": {
        "id": "peRvqraL1dfL"
      },
      "execution_count": null,
      "outputs": []
    },
    {
      "cell_type": "code",
      "source": [
        "sentinel_bands = ['B2', 'B3', 'B4']\n",
        "image_export = sentinel_clip.median().select(sentinel_bands).toFloat()"
      ],
      "metadata": {
        "id": "dB0m_OWWf6te"
      },
      "execution_count": null,
      "outputs": []
    },
    {
      "cell_type": "code",
      "source": [
        "image_name = 'sentinel2_2022_central_sample'\n",
        "fileNamePrefix = 'temp/rgb2022_central_sample/' + image_name\n",
        "\n",
        "exportConfig = {\n",
        "    'image': image_export,\n",
        "    'description': image_name,\n",
        "    'bucket': 'nature-watch-bucket',\n",
        "    'fileNamePrefix': fileNamePrefix,\n",
        "    'scale': 30,\n",
        "    'maxPixels': 43087449400,\n",
        "    'region': aoi,\n",
        "    'fileFormat': 'GeoTIFF',\n",
        "    'formatOptions': {'cloudOptimized': True}\n",
        "}\n",
        "\n",
        "task = ee.batch.Export.image.toCloudStorage(**exportConfig)\n",
        "task.start()"
      ],
      "metadata": {
        "id": "8HDROUWIDMZf"
      },
      "execution_count": null,
      "outputs": []
    },
    {
      "cell_type": "code",
      "source": [
        "ee.data.listOperations()"
      ],
      "metadata": {
        "id": "0ENy9-rhDoy6"
      },
      "execution_count": null,
      "outputs": []
    }
  ],
  "metadata": {
    "colab": {
      "provenance": [],
      "authorship_tag": "ABX9TyM23/xkEwPmEMEIvLusX71G"
    },
    "kernelspec": {
      "display_name": "Python 3",
      "name": "python3"
    },
    "language_info": {
      "name": "python"
    }
  },
  "nbformat": 4,
  "nbformat_minor": 0
}