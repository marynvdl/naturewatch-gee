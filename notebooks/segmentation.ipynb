{
  "cells": [
    {
      "cell_type": "markdown",
      "source": [
        "# Summary\n",
        "We map cropland across Africa.\n",
        "1. Using Segment Anything\n",
        "\n",
        "### Future\n",
        "-"
      ],
      "metadata": {
        "id": "PNr6n2d-Xt2a"
      }
    },
    {
      "cell_type": "markdown",
      "metadata": {
        "id": "z32MNb4_xsB7"
      },
      "source": [
        "# Set up the environment"
      ]
    },
    {
      "cell_type": "code",
      "execution_count": null,
      "metadata": {
        "id": "xX91gkFHtj-5"
      },
      "outputs": [],
      "source": [
        "# Import and/or install libraries\n",
        "import subprocess, os, gcsfs, json\n",
        "\n",
        "try:\n",
        "    import geemap, ee\n",
        "except ImportError:\n",
        "    subprocess.check_call([\"python\", '-m', 'pip', 'install', '-U', 'geemap'])\n",
        "    import geemap, ee\n",
        "\n",
        "try:\n",
        "    import samgeo\n",
        "except ImportError:\n",
        "    subprocess.check_call([\"python\", '-m', 'pip', 'install', '-U', 'segment-geospatial'])\n",
        "    from samgeo import SamGeo\n",
        "\n",
        "!pip install localtileserver\n",
        "!pip install pycrs"
      ]
    },
    {
      "cell_type": "code",
      "execution_count": null,
      "metadata": {
        "id": "gd4amEOkxAJ1"
      },
      "outputs": [],
      "source": [
        "# Connect to Google Drive to access files\n",
        "\n",
        "from google.colab import drive\n",
        "drive.mount('/content/drive')"
      ]
    },
    {
      "cell_type": "code",
      "execution_count": null,
      "metadata": {
        "id": "QEtv-EFnvqgQ"
      },
      "outputs": [],
      "source": [
        "# Connect to Google Earth Engine if neccessary\n",
        "\n",
        "service_account = os.environ.get('GOOGLE_SERVICE_ACCOUNT')\n",
        "credentials = ee.ServiceAccountCredentials(service_account, os.environ.get('GOOGLE_APPLICATION_CREDENTIALS'))\n",
        "ee.Initialize(credentials)"
      ]
    },
    {
      "cell_type": "markdown",
      "source": [
        "## Import AOI"
      ],
      "metadata": {
        "id": "eePyIfGVM52Y"
      }
    },
    {
      "cell_type": "code",
      "source": [
        "aoi = ee.Geometry({\n",
        "        \"type\": \"Polygon\",\n",
        "        \"coordinates\": [\n",
        "          [\n",
        "            [\n",
        "              22.763716590708043,\n",
        "              5.70609319915458\n",
        "            ],\n",
        "            [\n",
        "              22.763716590708043,\n",
        "              5.664906631466579\n",
        "            ],\n",
        "            [\n",
        "              22.81810892203191,\n",
        "              5.664906631466579\n",
        "            ],\n",
        "            [\n",
        "              22.81810892203191,\n",
        "              5.70609319915458\n",
        "            ],\n",
        "            [\n",
        "              22.763716590708043,\n",
        "              5.70609319915458\n",
        "            ]\n",
        "          ]\n",
        "        ],\n",
        "      })"
      ],
      "metadata": {
        "id": "c5MlfZowM7XR"
      },
      "execution_count": null,
      "outputs": []
    },
    {
      "cell_type": "markdown",
      "source": [
        "# Create a cloudless Sentinel-2 collection"
      ],
      "metadata": {
        "id": "5YXDNX0IYk8H"
      }
    },
    {
      "cell_type": "code",
      "source": [
        "CLOUD_FILTER = 80\n",
        "CLD_PRB_THRESH = 50\n",
        "NIR_DRK_THRESH = 0.15\n",
        "CLD_PRJ_DIST = 1\n",
        "BUFFER = 50\n",
        "\n",
        "\n",
        "def get_s2_sr_cld_col(datefilter):\n",
        "    s2_sr_col = (ee.ImageCollection('COPERNICUS/S2_SR')\n",
        "        .filter(datefilter)\n",
        "        .filter(ee.Filter.lte('CLOUDY_PIXEL_PERCENTAGE', CLOUD_FILTER)))\n",
        "\n",
        "    s2_cloudless_col = (ee.ImageCollection('COPERNICUS/S2_CLOUD_PROBABILITY')\n",
        "        .filter(datefilter)\n",
        "        )\n",
        "\n",
        "    return ee.ImageCollection(ee.Join.saveFirst('s2cloudless').apply(**{\n",
        "        'primary': s2_sr_col,\n",
        "        'secondary': s2_cloudless_col,\n",
        "        'condition': ee.Filter.equals(**{\n",
        "            'leftField': 'system:index',\n",
        "            'rightField': 'system:index'\n",
        "        })\n",
        "    }))\n",
        "\n",
        "\n",
        "def add_cloud_bands(img):\n",
        "    cld_prb = ee.Image(img.get('s2cloudless')).select('probability')\n",
        "    is_cloud = cld_prb.gt(CLD_PRB_THRESH).rename('clouds')\n",
        "    return img.addBands(ee.Image([cld_prb, is_cloud]))\n",
        "\n",
        "\n",
        "def add_shadow_bands(img):\n",
        "    # Identify water pixels from the SCL band.\n",
        "    not_water = img.select('SCL').neq(6)\n",
        "\n",
        "    # Identify dark NIR pixels that are not water (potential cloud shadow pixels).\n",
        "    SR_BAND_SCALE = 1e4\n",
        "    dark_pixels = img.select('B8').lt(NIR_DRK_THRESH*SR_BAND_SCALE).multiply(not_water).rename('dark_pixels')\n",
        "\n",
        "    # Determine the direction to project cloud shadow from clouds (assumes UTM projection).\n",
        "    shadow_azimuth = ee.Number(90).subtract(ee.Number(img.get('MEAN_SOLAR_AZIMUTH_ANGLE')));\n",
        "\n",
        "    # Project shadows from clouds for the distance specified by the CLD_PRJ_DIST input.\n",
        "    cld_proj = (img.select('clouds').directionalDistanceTransform(shadow_azimuth, CLD_PRJ_DIST*10)\n",
        "        .reproject(**{'crs': img.select(0).projection(), 'scale': 100})\n",
        "        .select('distance')\n",
        "        .mask()\n",
        "        .rename('cloud_transform'))\n",
        "\n",
        "    # Identify the intersection of dark pixels with cloud shadow projection.\n",
        "    shadows = cld_proj.multiply(dark_pixels).rename('shadows')\n",
        "\n",
        "    # Add dark pixels, cloud projection, and identified shadows as image bands.\n",
        "    return img.addBands(ee.Image([dark_pixels, cld_proj, shadows]))\n",
        "\n",
        "def add_cld_shdw_mask(img):\n",
        "    # Add cloud component bands.\n",
        "    img_cloud = add_cloud_bands(img)\n",
        "\n",
        "    # Add cloud shadow component bands.\n",
        "    img_cloud_shadow = add_shadow_bands(img_cloud)\n",
        "\n",
        "    # Combine cloud and shadow mask, set cloud and shadow as value 1, else 0.\n",
        "    is_cld_shdw = img_cloud_shadow.select('clouds').add(img_cloud_shadow.select('shadows')).gt(0)\n",
        "\n",
        "    # Remove small cloud-shadow patches and dilate remaining pixels by BUFFER input.\n",
        "    # 20 m scale is for speed, and assumes clouds don't require 10 m precision.\n",
        "    is_cld_shdw = (is_cld_shdw.focalMin(2).focalMax(BUFFER*2/20)\n",
        "        .reproject(**{'crs': img.select([0]).projection(), 'scale': 20})\n",
        "        .rename('cloudmask'))\n",
        "\n",
        "    # Add the final cloud-shadow mask to the image.\n",
        "    return img_cloud_shadow.addBands(is_cld_shdw)\n",
        "\n",
        "\n",
        "def apply_cld_shdw_mask(img):\n",
        "    # Subset the cloudmask band and invert it so clouds/shadow are 0, else 1.\n",
        "    not_cld_shdw = img.select('cloudmask').Not()\n",
        "\n",
        "    # Subset reflectance bands and update their masks, return the result.\n",
        "    return img.select('B.*').updateMask(not_cld_shdw)"
      ],
      "metadata": {
        "id": "19QSKzLnYn7b"
      },
      "execution_count": null,
      "outputs": []
    },
    {
      "cell_type": "code",
      "source": [
        "date_filter = ee.Filter.date(ee.Date('2013-12-31'), ee.Date('2023-01-01'))\n",
        "\n",
        "sentinel = get_s2_sr_cld_col(date_filter).map(add_cld_shdw_mask).map(apply_cld_shdw_mask)\n",
        "\n",
        "sentinel_vis = {\n",
        "  'min': 0.0,\n",
        "  'max': 3000,\n",
        "  'bands': ['B4', 'B3', 'B2'],\n",
        "  'gamma': 1.4\n",
        "}\n",
        "\n",
        "sentinel_clip = sentinel.filterBounds(aoi).median()"
      ],
      "metadata": {
        "id": "SfuMS3wlNZhc"
      },
      "execution_count": null,
      "outputs": []
    },
    {
      "cell_type": "code",
      "source": [
        "image_name = 'sentinel_bakouma'\n",
        "fileNamePrefix = 'temp/' + image_name\n",
        "\n",
        "exportConfig = {\n",
        "    'image': sentinel_clip.visualize(**sentinel_vis),\n",
        "    'description': image_name,\n",
        "    'bucket': 'nature-watch-bucket',\n",
        "    'fileNamePrefix': fileNamePrefix,\n",
        "    'scale': 10,\n",
        "    'maxPixels': 3147395000,\n",
        "    'region': aoi,\n",
        "    'fileFormat': 'GeoTIFF',\n",
        "    'formatOptions': {'cloudOptimized': True}\n",
        "}\n",
        "\n",
        "task = ee.batch.Export.image.toCloudStorage(**exportConfig)\n",
        "task.start()"
      ],
      "metadata": {
        "id": "t3lrBwKIUe0C"
      },
      "execution_count": null,
      "outputs": []
    },
    {
      "cell_type": "code",
      "source": [
        "ee.data.listOperations()"
      ],
      "metadata": {
        "id": "ZI3sxu3pb7jh"
      },
      "execution_count": null,
      "outputs": []
    },
    {
      "cell_type": "markdown",
      "source": [
        "# Segmentation"
      ],
      "metadata": {
        "id": "Lsx_MPk7N8DO"
      }
    },
    {
      "cell_type": "code",
      "source": [
        "import os\n",
        "import numpy as np\n",
        "import rasterio\n",
        "\n",
        "# Define the Google Cloud Storage bucket and GeoTIFF file.\n",
        "bucket = 'nature-watch-bucket'\n",
        "filename = 'temp/sentinel_bakouma.tif'\n",
        "url = f'https://storage.googleapis.com/{bucket}/{filename}'\n",
        "\n",
        "# Set the GDAL configuration options.\n",
        "rasterio.env.GDAL_DISABLE_READDIR_ON_OPEN='EMPTY_DIR'\n",
        "rasterio.env.CPL_VSIL_CURL_ALLOWED_EXTENSIONS='.tif'\n",
        "\n",
        "# Read the GeoTIFF file from Google Cloud Storage.\n",
        "with rasterio.open(f'/vsicurl/{url}') as src:\n",
        "    image = src.read()\n",
        "    transform = src.transform\n",
        "    crs = src.crs\n",
        "\n",
        "# Convert the image to a numpy array.\n",
        "array = np.array(image)\n",
        "array = np.transpose(array, (1, 2, 0))\n"
      ],
      "metadata": {
        "id": "XTEhKfssgUaD"
      },
      "execution_count": null,
      "outputs": []
    },
    {
      "cell_type": "code",
      "source": [
        "print(array.shape)"
      ],
      "metadata": {
        "id": "S4yZMyCKhP3S"
      },
      "execution_count": null,
      "outputs": []
    },
    {
      "cell_type": "code",
      "source": [
        "sam_kwargs = {\n",
        "    \"points_per_side\": 32,\n",
        "    \"pred_iou_thresh\": 0.86,\n",
        "    \"stability_score_thresh\": 0.92,\n",
        "    \"crop_n_layers\": 1,\n",
        "    \"crop_n_points_downscale_factor\": 2,\n",
        "    \"min_mask_region_area\": 10,\n",
        "}\n",
        "\n",
        "sam = SamGeo(\n",
        "    model_type=\"vit_h\",\n",
        "    checkpoint=\"sam_vit_h_4b8939.pth\",\n",
        "    device=None,\n",
        "    sam_kwargs=None,\n",
        ")"
      ],
      "metadata": {
        "id": "_7fCZF9kULjU"
      },
      "execution_count": null,
      "outputs": []
    },
    {
      "cell_type": "code",
      "source": [
        "sam.generate(array, output=\"masks.tif\", foreground=False, unique=True)\n",
        "sam.show_masks(cmap=\"binary_r\")"
      ],
      "metadata": {
        "id": "Q8i2ytvUg2xS"
      },
      "execution_count": null,
      "outputs": []
    },
    {
      "cell_type": "code",
      "source": [
        "sam.show_anns(axis=\"off\", alpha=1, output=\"annotations.tif\")"
      ],
      "metadata": {
        "id": "gamLQkNOi9Wt"
      },
      "execution_count": null,
      "outputs": []
    },
    {
      "cell_type": "code",
      "source": [
        "sam.tiff_to_vector(\"masks.tif\", \"masks.shp\")"
      ],
      "metadata": {
        "id": "p3ZOQDZFj-Wb"
      },
      "execution_count": null,
      "outputs": []
    },
    {
      "cell_type": "markdown",
      "source": [
        "# Map"
      ],
      "metadata": {
        "id": "PUgZ1kJxdaJh"
      }
    },
    {
      "cell_type": "code",
      "source": [
        "Map = geemap.Map()\n",
        "Map.add_basemap('SATELLITE')\n",
        "Map.addLayer(sentinel_clip, sentinel_vis, 'sentinel_clip')\n",
        "Map.add_vector(\"masks.shp\", alpha=0.5, layer_name=\"Masks\")\n",
        "Map.setCenter(31.866, -25.358, 12)\n",
        "Map"
      ],
      "metadata": {
        "id": "ULZ-JLZ50GnC"
      },
      "execution_count": null,
      "outputs": []
    }
  ],
  "metadata": {
    "colab": {
      "provenance": [],
      "collapsed_sections": [
        "eePyIfGVM52Y"
      ],
      "gpuType": "T4",
      "authorship_tag": "ABX9TyOsjAd+dkboaPnOJpz2cFH7"
    },
    "kernelspec": {
      "display_name": "Python 3",
      "name": "python3"
    },
    "language_info": {
      "name": "python"
    },
    "accelerator": "GPU"
  },
  "nbformat": 4,
  "nbformat_minor": 0
}