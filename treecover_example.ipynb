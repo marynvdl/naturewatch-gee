{
  "nbformat": 4,
  "nbformat_minor": 0,
  "metadata": {
    "colab": {
      "provenance": [],
      "authorship_tag": "ABX9TyNUY+kg9tMlhRQXPbMnlUea"
    },
    "kernelspec": {
      "name": "python3",
      "display_name": "Python 3"
    },
    "language_info": {
      "name": "python"
    }
  },
  "cells": [
    {
      "cell_type": "markdown",
      "source": [
        "# Setting up the environment"
      ],
      "metadata": {
        "id": "z32MNb4_xsB7"
      }
    },
    {
      "cell_type": "code",
      "execution_count": null,
      "metadata": {
        "id": "xX91gkFHtj-5"
      },
      "outputs": [],
      "source": [
        "# Import and/or install libraries\n",
        "\n",
        "import subprocess, os\n",
        "\n",
        "try:\n",
        "    import pystac\n",
        "except ImportError:\n",
        "    subprocess.check_call([\"python\", '-m', 'pip', 'install', '-U', 'geemap'])\n",
        "    import geemap\n",
        "\n",
        "try:\n",
        "    import geemap, ee\n",
        "except ImportError:\n",
        "    subprocess.check_call([\"python\", '-m', 'pip', 'install', '-U', 'geemap'])\n",
        "    import geemap, ee\n"
      ]
    },
    {
      "cell_type": "code",
      "source": [
        "# Connect to Google Drive to access files\n",
        "\n",
        "from google.colab import drive\n",
        "drive.mount('/content/drive')"
      ],
      "metadata": {
        "id": "gd4amEOkxAJ1"
      },
      "execution_count": null,
      "outputs": []
    },
    {
      "cell_type": "code",
      "source": [
        "# Connect to Google Earth Engine if neccessary\n",
        "\n",
        "service_account = os.environ.get('GOOGLE_SERVICE_ACCOUNT')\n",
        "credentials = ee.ServiceAccountCredentials(service_account, os.environ.get('GOOGLE_PATH_TO_KEY'))\n",
        "ee.Initialize(credentials)"
      ],
      "metadata": {
        "id": "QEtv-EFnvqgQ"
      },
      "execution_count": null,
      "outputs": []
    },
    {
      "cell_type": "markdown",
      "source": [
        "# Reading a STAC item"
      ],
      "metadata": {
        "id": "YDzJYWPLy3yl"
      }
    },
    {
      "cell_type": "code",
      "source": [
        "import json\n",
        "from shapely.geometry import shape\n",
        "\n",
        "# Load the GeoJSON data\n",
        "with open(\"/content/drive/MyDrive/mygit/naturewatch_analysis/geometries/area.geojson\", 'r') as f:\n",
        "    geojson = json.load(f)\n",
        "\n",
        "# Create a shapely geometry from the GeoJSON (grab the first feature of the FeatureCollection)\n",
        "aoi = [shape(feature['geometry']) for feature in geojson['features']][0]\n",
        "\n",
        "# Read the STAC Collection\n",
        "collection = pystac.Collection.from_file('https://planetarycomputer.microsoft.com/api/stac/v1/collections/ms-buildings')\n",
        "\n",
        "# Print items\n",
        "items = list(collection.get_all_items())\n",
        "\n",
        "print(f\"Number of items: {len(items)}\")\n",
        "for item in items:\n",
        "    print(f\"- {item.id}\")"
      ],
      "metadata": {
        "id": "NGV77XCoy6gA"
      },
      "execution_count": null,
      "outputs": []
    }
  ]
}